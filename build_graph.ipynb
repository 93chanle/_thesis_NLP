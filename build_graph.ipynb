{
 "cells": [
  {
   "cell_type": "code",
   "execution_count": 283,
   "metadata": {},
   "outputs": [],
   "source": [
    "import pickle\n",
    "from transformers import BertTokenizer, BertModel\n",
    "import re\n",
    "import pandas as pd\n",
    "from string import punctuation\n",
    "from math import log\n",
    "import torch"
   ]
  },
  {
   "cell_type": "code",
   "execution_count": 284,
   "metadata": {},
   "outputs": [
    {
     "name": "stderr",
     "output_type": "stream",
     "text": [
      "Some weights of the model checkpoint at bert-base-uncased were not used when initializing BertModel: ['cls.seq_relationship.weight', 'cls.predictions.transform.dense.bias', 'cls.predictions.bias', 'cls.predictions.transform.LayerNorm.bias', 'cls.predictions.transform.dense.weight', 'cls.seq_relationship.bias', 'cls.predictions.decoder.weight', 'cls.predictions.transform.LayerNorm.weight']\n",
      "- This IS expected if you are initializing BertModel from the checkpoint of a model trained on another task or with another architecture (e.g. initializing a BertForSequenceClassification model from a BertForPreTraining model).\n",
      "- This IS NOT expected if you are initializing BertModel from the checkpoint of a model that you expect to be exactly identical (initializing a BertForSequenceClassification model from a BertForSequenceClassification model).\n"
     ]
    }
   ],
   "source": [
    "tokenizer_name = 'bert-base-uncased'\n",
    "embedding_model_name = 'bert-base-uncased'\n",
    "\n",
    "# Set embedding model\n",
    "embedding_model = BertModel.from_pretrained(embedding_model_name,\n",
    "                                  output_hidden_states = True, # Whether the model returns all hidden-states.\n",
    "                                  )\n",
    "embedding_model.eval()\n",
    "\n",
    "# Tokenize as self.self.self.self.sentence\n",
    "tokenizer = BertTokenizer.from_pretrained(tokenizer_name)"
   ]
  },
  {
   "cell_type": "code",
   "execution_count": 285,
   "metadata": {},
   "outputs": [],
   "source": [
    "# Read in raw data\n",
    "with open('data/docs_demo_processed_10.pickle', 'rb') as f:\n",
    "    docs = pickle.load(f)"
   ]
  },
  {
   "cell_type": "code",
   "execution_count": 286,
   "metadata": {},
   "outputs": [],
   "source": [
    "def merge_punctuation(sentence):\n",
    "    sentence = sentence.replace('!', '.')\n",
    "    sentence = sentence.replace(':', ',')\n",
    "    sentence = sentence.replace('--', ',')\n",
    "    \n",
    "    reg = \"(?<=[a-zA-Z])-(?=[a-zA-Z]{2,})\"\n",
    "    r = re.compile(reg, re.DOTALL)\n",
    "    sentence = r.sub(' ', sentence)\n",
    "    \n",
    "    sentence = re.sub(r'\\s-\\s', ' , ', sentence)\n",
    "    \n",
    "    sentence = sentence.replace('-', ',')\n",
    "    # sentence = sentence.replace('[\\[\\]]', ' ')\n",
    "    sentence = sentence.replace(';', '.')\n",
    "    sentence = sentence.replace(' ,', ',')\n",
    "    sentence = sentence.replace('♫', '')\n",
    "    sentence = sentence.replace('...', '')\n",
    "    sentence = sentence.replace('.\\\"', ',')\n",
    "    sentence = sentence.replace('\"', ',')\n",
    "\n",
    "    sentence = re.sub(r'--\\s?--', '', sentence)\n",
    "    sentence = re.sub(r'\\s+', ' ', sentence)\n",
    "    \n",
    "    sentence = re.sub(r',\\s?,', ',', sentence)\n",
    "    sentence = re.sub(r',\\s?\\.', '.', sentence)\n",
    "    sentence = re.sub(r'\\?\\s?\\.', '?', sentence)\n",
    "    sentence = re.sub(r'\\s+', ' ', sentence)\n",
    "    \n",
    "    sentence = re.sub(r'\\s+\\?', '?', sentence)\n",
    "    sentence = re.sub(r'\\s+,', ',', sentence)\n",
    "    sentence = re.sub(r'\\.[\\s+\\.]+', '. ', sentence)\n",
    "    sentence = re.sub(r'\\s+\\.', '.', sentence)\n",
    "    \n",
    "    return sentence.strip().lower()"
   ]
  },
  {
   "cell_type": "code",
   "execution_count": 287,
   "metadata": {},
   "outputs": [],
   "source": [
    "# Process as sentence\n",
    "\n",
    "def preprocess_text(sentence):\n",
    "    # sentence = sentence.lower()  # Lowercase text\n",
    "    sentence = re.sub(f\"[{re.escape(punctuation)}]\", \"\", sentence)  # Remove punctuation\n",
    "    sentence = \" \".join(sentence.split())  # Remove extra spaces, tabs, and new lines\n",
    "    return(sentence)"
   ]
  },
  {
   "cell_type": "code",
   "execution_count": 288,
   "metadata": {},
   "outputs": [],
   "source": [
    "def tokenize_text(sentence):\n",
    "    sentence = tokenizer.tokenize(sentence)\n",
    "    return(sentence)"
   ]
  },
  {
   "cell_type": "code",
   "execution_count": 289,
   "metadata": {},
   "outputs": [],
   "source": [
    "# sentence = ['the', 'truth', 'of', 'the', 'matter', 'is', 'that', 'the', 'titanic', 'even', 'though', 'its', 'breaking', 'all', 'sorts', 'of', 'box', 'office', 'records', 'its', 'not', 'the', 'most', 'exciting', 'story', 'from', 'the', 'sea']\n",
    "\n",
    "# Add sentence to vocab (with frequency)\n",
    "\n",
    "def add_sentence_to_vocab(sentence, vocab):\n",
    "    for word in sentence:\n",
    "        if word in vocab.keys():\n",
    "            vocab[word] = vocab[word] + 1\n",
    "        else:\n",
    "            vocab[word] = 1\n",
    "\n",
    "def add_doc_vocab_to_corpus(doc_vocab, corpus_vocab):\n",
    "    for token in doc_vocab.keys():\n",
    "        if token in corpus_vocab.keys():\n",
    "            corpus_vocab[token] = corpus_vocab[token] + doc_vocab[token]\n",
    "        else:\n",
    "            corpus_vocab[token] = doc_vocab[token]"
   ]
  },
  {
   "cell_type": "code",
   "execution_count": 290,
   "metadata": {},
   "outputs": [],
   "source": [
    "def add_token_embeddings_to_doc(tokens, token_embeddings, doc_token_embeddings):\n",
    "    for idx, token in enumerate(tokens):\n",
    "        if token in doc_token_embeddings.keys():\n",
    "            doc_token_embeddings[token] = torch.cat((doc_token_embeddings[token], token_embeddings[idx].unsqueeze(1)), dim=1)\n",
    "\n",
    "        else:\n",
    "            doc_token_embeddings[token] = token_embeddings[idx].unsqueeze(1) # Get 2-dim vector (768 x 1) prepare for potential concat"
   ]
  },
  {
   "cell_type": "code",
   "execution_count": 291,
   "metadata": {},
   "outputs": [],
   "source": [
    "def add_token_embeddings_to_corpus(doc_token_embeddings, corpus_token_embeddings):\n",
    "    for token in doc_token_embeddings.keys():\n",
    "        if token in corpus_token_embeddings.keys():\n",
    "            corpus_token_embeddings[token] = torch.cat((doc_token_embeddings[token].unsqueeze(1), corpus_token_embeddings[token]), dim=1)\n",
    "        else:\n",
    "            corpus_token_embeddings[token] = doc_token_embeddings[token].unsqueeze(1) # Get 2-dim vector (768 x 1) prepare for potential concat"
   ]
  },
  {
   "cell_type": "code",
   "execution_count": 292,
   "metadata": {},
   "outputs": [],
   "source": [
    "corpus_token_embeddings = {}"
   ]
  },
  {
   "cell_type": "code",
   "execution_count": 293,
   "metadata": {},
   "outputs": [],
   "source": [
    "def get_mean_token_embeddings(token_embeddings):\n",
    "    for token in token_embeddings.keys():\n",
    "        token_embeddings[token] = token_embeddings[token].mean(dim=1)\n",
    "    return token_embeddings\n",
    "\n",
    "def create_doc_token_embeddings(doc):\n",
    "\n",
    "    doc_token_embeddings = {}\n",
    "\n",
    "    for sentence in doc:\n",
    "        tokens = tokenize_text(sentence)\n",
    "        token_embeddings = get_token_embeddings(tokens)\n",
    "        # print(token_embeddings)\n",
    "        add_token_embeddings_to_doc(tokens, token_embeddings, doc_token_embeddings)\n",
    "    \n",
    "    return get_mean_token_embeddings(doc_token_embeddings)"
   ]
  },
  {
   "cell_type": "code",
   "execution_count": 294,
   "metadata": {},
   "outputs": [],
   "source": [
    "# List of tokenized words for one document\n",
    "\n",
    "# Loop through sentences, do preprocessing & tokenization then add tokens to doc list and doc vocab\n",
    "def preprocess_doc(doc):\n",
    "    tokens_from_doc = list()\n",
    "    doc_vocab = {}\n",
    "\n",
    "    for sentence in doc:\n",
    "        # sentence = preprocess_text(sentence)\n",
    "        sentence = merge_punctuation(sentence)\n",
    "        sentence = tokenize_text(sentence)\n",
    "        add_sentence_to_vocab(sentence, doc_vocab)\n",
    "        [tokens_from_doc.append(token) for token in sentence]\n",
    "    \n",
    "    return tokens_from_doc, doc_vocab"
   ]
  },
  {
   "cell_type": "code",
   "execution_count": 295,
   "metadata": {},
   "outputs": [],
   "source": [
    "def add_new_tokens_to_corpus_adj_list(doc_vocab, corpus_adj_list, printout = False):\n",
    "    new_tokens = set(doc_vocab.keys()).difference(set(corpus_adj_list.keys()))\n",
    "\n",
    "    print('Doc has %d new tokens' % len(new_tokens))\n",
    "    for token in new_tokens:\n",
    "        corpus_adj_list[token] = {}"
   ]
  },
  {
   "cell_type": "code",
   "execution_count": 296,
   "metadata": {},
   "outputs": [],
   "source": [
    "def get_doc_windows(tokens_from_doc, window_size, padding):\n",
    "    doc_windows = []\n",
    "    for i in range(0, len(tokens_from_doc), window_size - padding):\n",
    "        doc_windows.append(tokens_from_doc[i:i + window_size])\n",
    "    return(doc_windows)\n"
   ]
  },
  {
   "cell_type": "code",
   "execution_count": 297,
   "metadata": {},
   "outputs": [],
   "source": [
    "def token_count_in_windows(token, windows):\n",
    "    return sum([token in window for window in windows])\n",
    "\n",
    "def token_pair_count_in_windows(token_1, token_2, windows):\n",
    "    return sum([(token_1 in window) & (token_2 in window) for window in windows])"
   ]
  },
  {
   "cell_type": "code",
   "execution_count": 298,
   "metadata": {},
   "outputs": [],
   "source": [
    "def probability_of_token_in_windows(token, windows):\n",
    "    return round(sum([token in window for window in windows])/len(windows), 4)\n",
    "\n",
    "def probability_of_token_pair_in_windows(token_1, token_2, windows):\n",
    "    return round(sum([(token_1 in window) & (token_2 in window) for window in windows])/len(windows), 4)"
   ]
  },
  {
   "cell_type": "code",
   "execution_count": 299,
   "metadata": {},
   "outputs": [],
   "source": [
    "def mpni(token_1, token_2, windows, printout = False):\n",
    "    prob_both_tokens = probability_of_token_pair_in_windows(token_1, token_2, windows)\n",
    "\n",
    "    if prob_both_tokens == 0:\n",
    "        npmi = -1\n",
    "        return(npmi)\n",
    "\n",
    "    prob_token_1 = probability_of_token_in_windows(token_1, windows)\n",
    "    prob_token_2 = probability_of_token_in_windows(token_2, windows)\n",
    "\n",
    "    npmi = (-1/log(prob_both_tokens, 10))*log((prob_both_tokens/(prob_token_1*prob_token_2)), 10)\n",
    "\n",
    "    if printout == True:\n",
    "        print('#i = %d' % token_count_in_windows(token_1, windows))\n",
    "        print('#j = %d' % token_count_in_windows(token_2, windows))\n",
    "        print('#i,j = %d' % token_pair_count_in_windows(token_1, token_2, windows))\n",
    "        print('p(i,j) = %.4f' % prob_both_tokens)\n",
    "        print('log(p(i,j) = %.4f' % log(prob_both_tokens, 10))\n",
    "        print('p(i) = %.4f' % prob_token_1)\n",
    "        print('p(j) = %.4f' % prob_token_2)\n",
    "\n",
    "    return(npmi)"
   ]
  },
  {
   "cell_type": "code",
   "execution_count": 300,
   "metadata": {},
   "outputs": [],
   "source": [
    "def get_token_embeddings(tokens):\n",
    "    indexed_tokens = tokenizer.convert_tokens_to_ids(tokens)\n",
    "    segments_ids = [1] * len(tokens)\n",
    "    tokens_tensor = torch.tensor([indexed_tokens]) # Get Token IDs from BERT vocab\n",
    "    segments_tensors = torch.tensor([segments_ids]) # Sentence ID, separation, e.g. 000/111\n",
    "\n",
    "    # Get raw output, for all BERT layers\n",
    "    ''' Object hidden_states has 4 dim in following order:\n",
    "    The layer number (13 layers), 1st is input embeddings\n",
    "    The batch number (1 sentence)\n",
    "    The word / token number (22 tokens in our sentence)\n",
    "    The hidden unit / feature number (768 features)\n",
    "    '''\n",
    "    with torch.no_grad():\n",
    "        outputs = embedding_model(tokens_tensor, segments_tensors)\n",
    "        hidden_states = outputs[2]\n",
    "    \n",
    "    # Reshape hidden_states\n",
    "    token_embeddings = torch.stack(hidden_states, dim=0) # Convert to 4-dim tensor from tuple\n",
    "    token_embeddings = torch.squeeze(token_embeddings, dim = 1) # Remove batch layer (only 1 sentence)\n",
    "    token_embeddings = token_embeddings.permute(1, 0, 2) # Swap token & layer number\n",
    "    token_embeddings = token_embeddings[:,11,:] # Get second-to-last layer as final embedding\n",
    "    # according to Han Xiao https://mccormickml.com/2019/05/14/BERT-word-embeddings-tutorial/\n",
    "\n",
    "    return(token_embeddings)"
   ]
  },
  {
   "cell_type": "code",
   "execution_count": 301,
   "metadata": {},
   "outputs": [],
   "source": [
    "test_1 = get_token_embeddings(tokenize_text('i love you very much'))\n",
    "test_2 = get_token_embeddings(tokenize_text('i love you'))"
   ]
  },
  {
   "cell_type": "code",
   "execution_count": 302,
   "metadata": {},
   "outputs": [
    {
     "data": {
      "text/plain": [
       "0.17923825979232788"
      ]
     },
     "execution_count": 302,
     "metadata": {},
     "output_type": "execute_result"
    }
   ],
   "source": [
    "from scipy.spatial.distance import cosine\n",
    "\n",
    "cosine(test_1[1], test_2[1])"
   ]
  },
  {
   "cell_type": "code",
   "execution_count": 308,
   "metadata": {},
   "outputs": [],
   "source": [
    "def get_token_adjancency_from_window(adj, window):\n",
    "\n",
    "    for token in window:\n",
    "        if token not in adj.keys(): adj[token] = {}\n",
    "        window_temp = filter(lambda x: x != token, window)\n",
    "        for token_temp in window_temp:\n",
    "            if token_temp not in adj[token].keys():\n",
    "                adj[token][token_temp] =1\n",
    "            else: adj[token][token_temp] +=1"
   ]
  },
  {
   "cell_type": "markdown",
   "metadata": {},
   "source": [
    "## Execution"
   ]
  },
  {
   "cell_type": "code",
   "execution_count": 305,
   "metadata": {},
   "outputs": [],
   "source": [
    "corpus_vocab = {}\n",
    "corpus_token_embeddings = {}\n",
    "corpus_adj_list = {}\n",
    "corpus_windows_count = 0\n",
    "corpus_windows = []\n",
    "corpus_token_appeared_in_window = {}\n",
    "corpus_token_pair_appeared_in_window = {}\n",
    "\n",
    "window_size = 10\n",
    "padding = 2"
   ]
  },
  {
   "cell_type": "markdown",
   "metadata": {},
   "source": [
    "- Preprocess docs\n",
    "- Get all corpus_windows (for calculating MNPI)\n",
    "- Get ordered corpus_vocab"
   ]
  },
  {
   "cell_type": "code",
   "execution_count": 306,
   "metadata": {},
   "outputs": [
    {
     "name": "stdout",
     "output_type": "stream",
     "text": [
      "{'david': 1, 'gallo': 2, ',': 190, 'this': 54, 'is': 59, 'bill': 5, 'lange': 3, '.': 203, 'i': 10, \"'\": 131, 'm': 1, 'dave': 1, 'and': 89, 'we': 64, 're': 34, 'going': 13, 'to': 52, 'tell': 1, 'you': 37, 'some': 6, 'stories': 4, 'from': 21, 'the': 171, 'sea': 16, 'here': 35, 'in': 45, 'video': 3, 've': 9, 'got': 9, 'of': 94, 'most': 8, 'incredible': 4, 'titanic': 3, 'that': 77, 's': 71, 'ever': 3, 'been': 5, 'seen': 1, 'not': 9, 'show': 5, 'any': 4, 'it': 63, 'truth': 1, 'matter': 1, 'even': 4, 'though': 1, 'breaking': 1, 'all': 23, 'sorts': 2, 'box': 1, 'office': 1, 'records': 1, 'exciting': 1, 'story': 4, 'problem': 2, 'think': 7, 'take': 4, 'ocean': 10, 'for': 12, 'granted': 1, 'when': 3, 'about': 14, 'oceans': 5, 'are': 26, '75': 1, 'percent': 1, 'planet': 7, 'water': 11, 'average': 3, 'depth': 5, 'two': 8, 'miles': 7, 'part': 1, 'stand': 1, 'at': 27, 'beach': 2, 'or': 7, 'see': 22, 'images': 1, 'like': 19, 'look': 3, 'out': 25, 'great': 1, 'big': 3, 'blue': 1, 'expanse': 1, 'shimmering': 1, 'moving': 2, 'there': 26, 'waves': 1, 'surf': 1, 'tides': 1, 'but': 12, 'have': 12, 'no': 5, 'idea': 4, 'what': 14, 'lies': 1, 'longest': 2, 'mountain': 6, 'ranges': 4, 'on': 25, 'animals': 17, 'earthquakes': 3, 'volcanoes': 1, 'bottom': 7, 'biodiversity': 2, 'bio': 4, '##den': 2, '##sity': 1, 'higher': 3, 'places': 1, 'than': 4, 'rainforest': 2, '##s': 10, 'mostly': 1, 'une': 2, '##x': 2, '##pl': 2, '##ored': 2, 'yet': 3, 'beautiful': 1, 'sights': 1, 'capt': 1, '##ivate': 1, 'us': 6, 'make': 3, 'become': 1, 'familiar': 3, 'with': 21, 'standing': 2, 'want': 2, 'edge': 1, 'a': 62, 'very': 9, 'unfamiliar': 2, 'world': 8, 'special': 1, 'technology': 2, 'get': 9, 'into': 5, 'use': 4, 'submarine': 3, 'alvin': 2, 'cameras': 3, 'something': 2, 'has': 2, 'developed': 1, 'help': 1, 'sony': 1, 'marcel': 1, 'pro': 1, '##ust': 1, 'said': 2, 'true': 1, 'voyage': 1, 'discovery': 1, 'so': 18, 'much': 2, 'seeking': 1, 'new': 7, 'landscapes': 2, 'as': 15, 'having': 2, 'eyes': 3, 'people': 1, 'partnered': 1, 'given': 1, 'only': 5, 'exists': 2, 'also': 1, 'how': 6, 'life': 9, 'itself': 1, 'jelly': 3, 'one': 22, 'my': 2, 'favorites': 3, 'because': 6, 'working': 3, 'parts': 1, 'turns': 4, 'be': 5, 'creature': 2, 'gets': 2, 'up': 16, '150': 1, 'feet': 4, 'long': 8, 'those': 8, 'different': 4, 'things': 6, '?': 5, 'love': 1, 'kind': 4, 'stuff': 4, 'these': 33, 'fishing': 1, 'lure': 1, 'they': 24, 'down': 12, 'tentacles': 1, 'dangling': 1, 'swirling': 1, 'around': 5, 'colonial': 1, 'animal': 1, 'individual': 3, 'band': 1, '##ing': 2, 'together': 3, 'jet': 1, 'thrust': 1, '##ers': 1, 'front': 2, 'll': 5, 'moment': 1, 'little': 6, 'light': 3, 'if': 2, 'fish': 4, 'schooling': 1, 'put': 4, 'them': 6, 'side': 5, 'scale': 2, 'type': 2, 'other': 1, 'guys': 2, 'win': 1, 'hands': 1, 'biomass': 1, 'made': 2, 'creatures': 2, 'x': 1, 'wing': 1, 'death': 1, '##lum': 1, '##ines': 1, '##cence': 1, 'lights': 3, 'attracting': 2, 'mates': 1, 'prey': 1, 'communicating': 1, 'couldn': 1, 't': 11, 'begin': 1, 'our': 5, 'archival': 1, 'je': 1, '##llie': 1, 'come': 10, 'sizes': 1, 'shapes': 1, 'tend': 1, 'forget': 1, 'fact': 1, 'deep': 3, 'real': 3, 'first': 4, '200': 3, '300': 1, 'way': 4, 'types': 2, 'live': 4, 'three': 4, 'dimensional': 1, 'space': 1, 'micro': 1, 'gravity': 1, 'environment': 1, 'really': 7, 'haven': 2, 'explored': 1, 'hear': 1, 'giant': 1, 'squid': 1, 'approximately': 1, '140': 1, '160': 1, 'understood': 1, 'd': 8, '##g': 8, 'another': 2, 'oct': 2, '##op': 2, '##od': 1, 'can': 12, 'actually': 6, 'through': 2, 'his': 5, 'head': 3, 'he': 3, 'flap': 1, '##ping': 1, 'ears': 1, 'gracefully': 1, 'depths': 2, 'greatest': 2, 'go': 6, 'couple': 2, 'inches': 2, 'right': 8, 'their': 5, 'window': 1, 'peek': 1, 'inside': 4, 'sub': 1, 'within': 1, 'case': 1, 'passing': 1, 'mid': 2, 'an': 8, 'under': 2, '##sea': 1, 'rooster': 1, 'guy': 2, 'looks': 1, 'incredibly': 1, 'formal': 1, 'then': 4, 'face': 3, 'basically': 2, 'scientific': 2, 'data': 1, 'looking': 3, 'footage': 1, 'collected': 1, 'purposes': 1, 'doing': 1, 'providing': 1, 'scientists': 1, 'view': 2, 'where': 4, 'belong': 1, 'don': 3, 'catch': 1, 'net': 1, 'joy': 3, '##stick': 3, 'sit': 2, 'computer': 1, 'earth': 6, 'press': 1, 'forward': 1, 'fly': 1, 'ridge': 3, '40': 2, '000': 3, 'mile': 5, 'range': 3, 'top': 2, 'half': 3, 'over': 5, 'atlantic': 2, 'across': 1, 'caribbean': 1, 'central': 1, 'america': 1, 'end': 3, 'against': 1, 'pacific': 3, 'nine': 1, 'degrees': 5, 'north': 1, 'maps': 1, 'sound': 2, 'sonar': 1, 'coming': 12, 'cliff': 1, 'height': 1, 'mountains': 3, 'either': 3, 'valley': 2, 'greater': 2, 'alps': 2, 'cases': 1, 'tens': 1, 'thousands': 1, 'mapped': 1, 'volcanic': 8, 'getting': 2, 'further': 2, 'eventually': 1, 'icon': 1, 'robot': 2, 'jason': 1, 'called': 3, 'room': 1, 'heads': 1, '##et': 1, 'drive': 1, 'time': 5, 'trying': 2, 'do': 3, 'woods': 1, 'hole': 1, 'partners': 1, 'bring': 2, 'virtual': 1, 'region': 1, 'back': 10, 'laboratory': 1, 'bits': 1, 'pieces': 1, 'now': 11, 'photographs': 1, 'chemical': 2, 'sensors': 1, 'never': 3, 'interesting': 1, 'picture': 1, 'shine': 1, 'hydro': 4, '##thermal': 4, 'vent': 5, 'seeing': 2, 'cloud': 1, 'densely': 1, 'packed': 1, 'hydrogen': 2, 'sul': 3, '##fide': 3, 'rich': 2, 'axis': 2, 'floor': 4, '600': 1, '700': 1, 'f': 2, 'somewhere': 1, 'knew': 1, 'was': 3, '60s': 1, '70s': 1, 'had': 1, 'hint': 1, 'existed': 1, 'along': 2, 'vol': 1, '##can': 1, '##ism': 1, 'cracks': 1, 'contact': 1, 'magma': 1, 'shooting': 1, 'hot': 5, 'weren': 1, 'aware': 1, 'would': 1, 'didn': 1, 'which': 3, 'call': 1, 'chimneys': 2, 'vents': 5, 'six': 1, 'hundred': 1, 'degree': 1, 'setting': 1, 'dramatic': 1, 'b': 7, '##l': 7, 'white': 2, 'material': 1, 'bacteria': 10, 'thrive': 1, '180': 1, 'c': 3, 'thing': 5, 'after': 1, 'eruption': 1, 'started': 1, 'wonder': 1, 'did': 1, 'find': 4, 'probably': 4, '##genesis': 1, 'activity': 2, 'supports': 1, 'colonies': 1, 'pressure': 3, '4': 1, 'pounds': 1, 'per': 2, 'square': 1, 'inch': 1, 'surface': 1, 'sun': 2, 'gotten': 1, 'energy': 2, 'support': 1, 'forms': 1, 'che': 2, '##mos': 2, '##yn': 2, '##thesis': 1, 'dense': 1, 'population': 1, 'tube': 3, 'worms': 7, 'digest': 2, '##ive': 1, 'system': 3, 'mouth': 1, 'gill': 1, 'structures': 2, 'extract': 1, 'oxygen': 1, 'houses': 1, '##the': 1, '##tic': 1, 'takes': 1, 'fluid': 1, 'saw': 2, 'converts': 1, 'simple': 1, 'sugar': 1, 'worm': 4, 'crab': 7, 'lives': 2, 'managed': 1, 'grab': 1, 'tip': 1, 'normally': 1, '##tra': 2, '##ct': 2, 'soon': 2, 'touches': 2, 'oh': 1, 'good': 1, 'shells': 1, 'just': 9, 'your': 3, 'fingernails': 1, 'whole': 1, 'being': 3, 'played': 2, 'beginning': 1, 'camera': 1, 'temperature': 1, 'extreme': 1, 'foot': 2, 'hand': 1, 'boiling': 1, 'freezing': 1, 'female': 1, 'male': 1, 'watch': 1, 'doesn': 1, 'before': 1, 'will': 1, 'start': 1, 'fight': 1, 'everything': 3, 'pitch': 1, 'black': 2, 'except': 1, 'last': 2, 'dive': 1, 'series': 1, 'counted': 1, 'species': 2, 'areas': 1, '198': 1, 'were': 1, 'problems': 1, 'biologist': 2, 'sites': 4, 'rather': 1, 'difficult': 1, 'collect': 1, 'di': 1, '##sin': 1, '##te': 1, '##grate': 1, 'imagery': 1, 'critical': 1, 'science': 1, '##ods': 1, 'ama': 1, '##zes': 1, 'me': 1, 'exist': 1, 'enough': 1, 'crush': 1, 'empty': 1, 'pepsi': 1, 'till': 1, 'shrimp': 4, 'hara': 1, '##ssing': 1, 'poor': 1, 'bat': 1, 'away': 3, 'claw': 2, 'w': 1, '##ha': 1, '##ck': 1, 'same': 2, 'foods': 1, '##tu': 1, '##ff': 1, 'strange': 2, 'backs': 2, 'harvest': 1, 'crabs': 2, 'fi': 1, '##lam': 1, '##ents': 1, 'created': 1, 'by': 4, 'product': 1, 'grows': 1, 'hair': 1, 'again': 2, 'red': 1, 'dot': 1, 'laser': 1, 'give': 1, 'far': 1, 'clinging': 1, 'rock': 2, 'scraping': 1, 'off': 3, 'tiny': 1, 'pillar': 1, 'pillars': 3, 'several': 2, 'alien': 1, 'landscape': 1, 'springs': 2, 'eruptions': 2, 'inhabited': 1, 'ground': 1, 'need': 1, 'v': 1, 'shaped': 1, 'mark': 1, 'sensing': 1, 'organ': 1, 'emi': 1, '##tting': 1, 'body': 1, 'radiation': 1, 'ir': 1, 'signature': 1, 'able': 1, 'considerable': 1, 'distances': 1, 'happening': 1, 'calling': 1, 'ribbon': 1, 'today': 3, 'speak': 1, 'generated': 1, 'tried': 1, 'place': 1, 'try': 1, 'high': 1, 'definition': 1, 'tall': 1, 'habitat': 1, 'lot': 1, 'funny': 1, 'plate': 1, 'homes': 1, 'closer': 1, 'community': 1, 'smaller': 1, 'crawling': 1, 'pagoda': 1, 'neat': 1, '##est': 1, 'sitting': 2, 'smoking': 1, 'toxic': 2, 'hell': 2, 'could': 1, 'permit': 1, 'dump': 1, 'unbelievable': 1, 'sulfur': 1, '##ic': 1, 'acid': 1, 'dumped': 1, 'rates': 1, 'thriving': 1, 'came': 1, 'evolved': 2, 'talking': 2, 'simplest': 1, 'form': 1, 'found': 1, 'number': 1, 'groups': 1, 'proposing': 1, 'although': 1, 'short': 1, 'lived': 1, 'site': 2, 'may': 1, '10': 1, 'years': 3, 'ecosystem': 1, 'stable': 1, 'millions': 1, 'well': 3, 'billions': 1, 'works': 2, 'too': 1, 'waiting': 1, 'stick': 1, 'cannot': 1, 'explain': 1, 'why': 1, 'active': 1, 'growing': 1, 'week': 1, 'already': 1, 'human': 1, 'perspective': 1, '##blood': 1, 'plumbing': 2, 'every': 2, 'year': 3, 'move': 2, 'order': 1, 'five': 2, 'completely': 1, 'wipe': 1, 'area': 1, 'despite': 1, 'grow': 1, '##sities': 1, 'sensitive': 1, 'yes': 1, 'fragile': 2, 'saying': 1, 'waters': 1, 'sediments': 2, 'rocks': 2, 'record': 1, 'history': 1, 'cycles': 1, 'rhythms': 1, 'continents': 1, 'apart': 1, 'glaciers': 1, 'el': 1, 'nino': 1, 'comes': 1, 'goes': 1, 'disaster': 1, 'rhythmic': 1, 'learning': 2, 'almost': 1, 'symphony': 2, 'music': 2, 'listen': 1, 'billion': 1, 'say': 1, 'stop': 1, 'tomorrow': 1, 'note': 1, 'absurd': 2, 'learn': 2, 'scales': 1, 'work': 1, 'manage': 1, 'concept': 1, 'preservation': 1, 'futile': 1, 'conservation': 1, 'tough': 1, '##er': 1, 'thank': 2}\n",
      "Doc has 776 new tokens\n",
      "{'i': 53, \"'\": 162, 'm': 19, 'here': 3, 'today': 4, 'to': 85, 'start': 3, 'a': 61, 'revolution': 12, '.': 248, 'now': 7, 'before': 3, 'you': 73, 'get': 7, 'up': 4, 'in': 50, 'arms': 1, ',': 274, 'or': 15, 'break': 2, 'into': 3, 'song': 2, 'pick': 1, 'favorite': 1, 'color': 2, 'want': 4, 'define': 1, 'what': 33, 'mean': 3, 'by': 8, 'drastic': 4, 'and': 107, 'far': 1, 'reaching': 1, 'change': 9, 'the': 109, 'way': 10, 'we': 109, 'think': 10, 'behave': 5, 'why': 5, 'steve': 2, 'do': 18, 'need': 18, '?': 32, 'because': 18, 'things': 8, 'aren': 3, 't': 37, 'working': 4, 'they': 20, 're': 39, 'just': 14, 'not': 30, 'that': 60, 'makes': 1, 'me': 11, 'really': 12, 'sad': 3, 'sick': 3, 'tired': 3, 'of': 59, 'know': 10, 'us': 9, 'living': 1, 'our': 24, 'potential': 1, 'being': 2, 'last': 13, 'are': 19, 'place': 6, 'so': 16, 'many': 3, 'for': 36, 'example': 5, 'social': 8, 'factors': 1, 'europe': 3, 'innovation': 5, 'there': 13, 'right': 4, 'at': 11, 'end': 2, 'bottom': 2, 'as': 10, 'culture': 1, 'doesn': 2, 'value': 7, 'health': 1, 'care': 6, 's': 56, 'important': 1, 'sense': 4, 'well': 6, 'e': 2, 'u': 2, 'very': 1, 'worst': 2, 'all': 8, 'it': 73, 'came': 1, 'out': 7, 'three': 6, 'weeks': 2, 'ago': 3, 'have': 29, 'seen': 2, 'economist': 1, '##des': 2, '##t': 3, 'on': 9, 'earth': 2, 'relative': 1, 'gdp': 2, 'per': 2, 'capita': 2, 'let': 13, 'look': 2, 'education': 7, 'where': 5, 'rank': 1, 'another': 1, 'report': 1, 'o': 2, '##ec': 1, '##d': 2, 'reading': 3, 'math': 2, 'science': 3, 'business': 4, 'lowest': 3, 'perception': 1, 'entrepreneurs': 2, 'provide': 1, 'benefits': 6, 'society': 2, 'result': 2, 'happens': 6, 'percentage': 1, 'starting': 1, 'businesses': 2, 'this': 13, 'is': 44, 'despite': 1, 'fact': 3, 'everybody': 1, 'knows': 1, 'small': 2, 'engine': 2, 'economies': 1, 'hire': 1, 'most': 2, 'people': 6, 'create': 3, 'taxes': 1, 'if': 14, 'broken': 3, 'guess': 1, 'no': 4, 'surprise': 1, 'guys': 5, '62': 1, 'percent': 1, 'bulgarian': 3, '##s': 9, 'optimistic': 1, 'about': 8, 'future': 2, 'unhappy': 2, 'bad': 2, 'these': 5, 'facts': 3, 'isn': 2, 'story': 3, 'tale': 1, 'make': 6, 'believe': 4, 'conspiracy': 1, 'got': 5, 'against': 1, 'bulgaria': 7, 'should': 3, 'be': 20, 'clear': 1, 'system': 6, 'operating': 2, '##ha': 1, '##ving': 1, 'transform': 4, 'better': 9, 'ourselves': 6, 'friends': 5, 'family': 1, 'how': 12, 'did': 5, 'happen': 2, 'positive': 2, 'going': 18, 'some': 8, 'handicap': 3, '##ping': 1, 'holding': 2, 'back': 7, 'don': 18, 'play': 74, 'said': 4, 'case': 1, 'forgot': 1, 'looks': 1, 'like': 14, 'babies': 1, 'kids': 5, 'adults': 3, 'dev': 3, '##al': 5, '##ue': 2, 'areas': 2, 'go': 8, 'same': 1, '45': 3, 'years': 7, 'communism': 2, 'val': 1, '##uing': 1, 'state': 1, 'over': 2, 'individual': 2, 'squash': 1, '##ing': 3, 'inadvertently': 1, 'creativity': 3, 'self': 5, 'expression': 2, 'instead': 1, 'shown': 4, 'apply': 1, 'generate': 1, 'use': 5, 'knowledge': 1, 'affected': 1, 'institutional': 1, 'context': 1, 'which': 2, 'told': 2, 'serious': 16, 'can': 16, 'tell': 2, 'times': 4, 've': 6, 'been': 6, 'sc': 1, '##old': 1, '##ed': 1, 'park': 1, 'letting': 1, 'my': 5, 'ground': 1, 'heaven': 2, 'forbid': 2, 'dirt': 1, 'ka': 1, '##l': 1, 'even': 2, 'worse': 2, 'lok': 1, '##vi': 2, 'water': 1, 'will': 2, 'kill': 1, 'them': 12, 'baba': 4, 'd': 1, '##yad': 1, '##os': 1, 'shouldn': 2, 'much': 2, 'life': 2, 'train': 1, 'seriousness': 1, '##me': 6, 'running': 2, 'through': 6, 'gene': 2, 'created': 1, 'call': 2, 'factor': 1, 'works': 1, 'step': 4, 'one': 4, 'woman': 1, 'says': 1, 'baby': 4, '##kam': 1, 'two': 4, 'woo': 1, '##ho': 1, '##o': 1, 'but': 19, 'then': 2, 'work': 15, 'further': 1, 'career': 1, 'coffee': 1, 'give': 3, '##b': 1, '##ko': 1, 'remember': 1, 'infected': 1, 'she': 1, 'passes': 1, 'virus': 1, 'takes': 1, 'long': 3, 'time': 2, 'redwood': 1, 'trees': 1, 'goes': 2, 'an': 2, 'anti': 1, '##qua': 1, '##ted': 1, 'has': 2, 'little': 4, 'changed': 1, '100': 1, 'values': 1, 'rot': 1, '##e': 1, 'learning': 2, 'memo': 1, '##rization': 1, 'standardization': 1, '##ues': 1, 'exploration': 1, 'questioning': 1, 'crap': 2, 'true': 1, 'went': 2, 'looking': 1, 'school': 2, 'kid': 2, 'prestigious': 1, 'say': 8, 'study': 2, '10': 1, 'week': 2, 'eight': 1, 'five': 2, 'day': 2, 'stuff': 1, 'recess': 2, 'ha': 1, 'won': 1, 'single': 1, 'moment': 1, 'schedule': 1, 'he': 7, 'crime': 3, 'creating': 1, 'mind': 1, '##less': 1, 'robotic': 2, 'workers': 5, 'put': 1, 'bolts': 1, 'pre': 2, 'drilled': 1, 'holes': 1, 'sorry': 1, 'problems': 3, 'industrial': 1, 'adapt': 1, '##ability': 1, 'ability': 3, 'learn': 4, 'creative': 1, 'innovative': 2, 'mechanized': 1, 'treat': 3, 'assets': 1, 'lever': 1, 'throw': 1, 'away': 1, 'qualities': 1, 'auto': 3, '##cratic': 2, 'chef': 1, 'boss': 2, 'than': 2, 'un': 5, '##trust': 2, 'obviously': 2, 'criminal': 1, 'install': 1, 'cameras': 1, 'controlling': 2, 'idiot': 1, 'z': 1, '##ill': 1, '##ion': 1, 'processes': 1, 'follow': 1, 'box': 1, 'restrictive': 2, 'your': 16, 'mobile': 2, 'phone': 2, 'laptop': 1, 'search': 1, 'internet': 2, 'somehow': 1, '##pro': 1, '##fe': 1, '##ssion': 1, '##ful': 2, '##fi': 2, '##lling': 2, 'controlled': 1, 'restricted': 1, 'valued': 1, 'having': 3, 'any': 2, 'fun': 8, 'ridiculous': 1, 'dumb': 1, 'idea': 1, 'stupid': 2, 'thing': 2, 'prove': 1, 'next': 1, 'part': 1, 'speech': 1, 'catalyst': 1, 'brains': 5, 'hard': 3, '##wire': 1, 'evolution': 2, 'selected': 2, 'millions': 1, 'billions': 1, 'animals': 3, 'humans': 5, 'does': 4, 'good': 1, 'job': 1, 'des': 1, '##ele': 1, '##cting': 1, 'traits': 3, 'advantage': 2, '##ous': 1, 'selecting': 1, 'competitive': 1, 'nature': 2, 'throughout': 1, 'animal': 1, 'kingdom': 1, 'ants': 2, 'maybe': 3, 'didn': 1, 'when': 6, 'playing': 4, 'order': 1, 'dynamics': 1, 'rats': 2, 'might': 3, 'known': 1, 'more': 11, 'bigger': 2, 'tasks': 1, 'skills': 1, 'kitten': 3, 'may': 2, 'deprived': 1, 'unable': 1, 'interact': 1, 'socially': 1, 'still': 2, 'hunt': 1, 'bears': 3, 'survive': 1, 'longer': 1, 'fish': 1, 'ones': 2, 'final': 1, 'interesting': 1, 'correlation': 1, 'between': 1, 'brain': 2, 'size': 1, 'dolphins': 1, 'pretty': 3, 'big': 1, 'lot': 3, 'who': 2, 'with': 6, 'biggest': 3, 'players': 4, 'yours': 1, 'truly': 1, 'every': 7, 'nationality': 1, 'race': 1, 'religion': 1, 'universal': 2, 'too': 1, 'cool': 1, 'term': 1, 'neo': 2, '##ten': 2, '##y': 1, 'retention': 1, 'juvenile': 1, '##ists': 1, 'sports': 1, 'olympian': 1, 'professionals': 1, 'musical': 1, 'instruments': 1, 'dance': 1, 'kiss': 1, 'sing': 1, 'goo': 1, '##f': 1, 'around': 1, 'designed': 2, 'from': 5, 'birth': 3, 'old': 1, 'age': 1, 'continuously': 1, 'stop': 1, 'huge': 1, 'benefit': 1, 'stimulate': 2, 'neural': 1, 'growth': 1, 'amy': 1, '##g': 1, '##dal': 1, '##a': 1, 'area': 1, 'controls': 1, 'emotions': 1, 'promote': 1, 'frontal': 1, 'cortex': 1, 'development': 1, 'cognition': 1, 'happening': 1, 'develop': 2, 'emotional': 1, 'maturity': 1, 'decision': 1, 'making': 1, 'fiction': 1, 'tales': 1, 'cold': 1, 'genetic': 1, '##right': 2, 'walking': 1, 'speaking': 1, 'seeing': 1, 'would': 2, 'other': 1, 'hold': 1, 'exercise': 1, 'second': 2, 'close': 1, 'eyes': 1, 'try': 1, 'imagine': 3, 'world': 5, 'without': 8, 'theater': 1, 'arts': 1, 'dancing': 1, 'soccer': 1, 'football': 1, 'laughter': 2, 'bleak': 1, 'g': 1, '##lum': 1, 'workplace': 4, 'playful': 2, 'forward': 1, 'thinking': 4, 'concept': 2, 'opposite': 3, 'feel': 5, 'guilty': 2, 'oh': 2, 'colleagues': 2, 'see': 2, 'laughing': 1, 'must': 1, 'enough': 1, 'hide': 1, 'news': 1, 'backwards': 2, 'depression': 2, 'improves': 2, 'increases': 2, 'open': 1, '##ness': 1, 'provides': 1, 'purpose': 2, 'mastery': 2, 'key': 1, 'motivation': 1, 'increase': 1, 'productivity': 3, 'fr': 1, '##ivo': 1, '##lous': 1, 'professional': 1, 'athlete': 1, 'loves': 2, 'skiing': 1, 'groove': 1, 'flow': 1, 'doctor': 1, 'great': 6, 'medicine': 1, 'feeling': 4, 'celebrating': 1, 'quick': 1, 'corporate': 1, 'fed': 2, '##ex': 2, 'easy': 1, 'motto': 1, 'service': 5, 'profit': 4, 'happier': 1, 'fulfilled': 2, 'customers': 5, 'dealing': 1, 'happy': 5, 'decisions': 2, 'buy': 1, 'their': 3, 'leads': 1, 'decreases': 1, 'gee': 1, 'united': 1, 'states': 1, 'different': 1, 'reasons': 1, 'nothing': 2, 'weird': 2, 'besides': 1, 'kick': 1, 'tried': 2, 'sci': 2, '##ant': 2, 'had': 5, 'zero': 2, 'customer': 4, 'refer': 1, 'asked': 1, 'marginal': 2, 'profits': 2, 'stakeholders': 2, 'basic': 1, 'improving': 1, 'transparency': 1, 'promoting': 3, 'direction': 1, 'collaboration': 2, 'encouraging': 1, '##cr': 1, '##acy': 1, 'results': 1, 'focus': 1, 'morning': 1, 'leave': 1, 'team': 1, 'organized': 1, 'nine': 1, 'clock': 1, 'basically': 1, 'environment': 1, 'were': 1, 'able': 2, 'short': 1, 'sounds': 1, 'slow': 1, 'referring': 1, 'above': 1, 'average': 1, 'industry': 1, 'win': 1, 'year': 1, 'entered': 1, 'rankings': 1, 'best': 1, 'employer': 1, 'independent': 1, 'analysis': 1, 'anonymous': 1, 'employees': 2, 'surveys': 1, 'except': 1, 'own': 1, 'mental': 1, '##ity': 1, 'steps': 1, 'take': 2, 'finish': 1, 'first': 1, 'home': 1, 'something': 1, 'red': 3, '##is': 3, '##co': 3, '##ver': 3, 'whatever': 1, 'was': 2, 'used': 1, 'enjoy': 2, 'enjoyed': 1, 'only': 1, 'six': 1, 'months': 1, 'promotion': 1, 'mountain': 1, 'biking': 1, 'book': 1, 'game': 1, 'leaders': 4, 'thought': 1, 'office': 1, 'talk': 2, 'ign': 1, '##ite': 1, 'fire': 1, 'hey': 1, 'trust': 2, 'hired': 1, 'em': 1, '##power': 1, 'delegate': 1, 'level': 1, 'rather': 1, 'top': 1, 'encourage': 1, 'constructive': 1, 'criticism': 1, 'challenge': 1, 'authority': 1, 'challenging': 1, 'always': 2, 'done': 1, 'ru': 1, 'solutions': 1, 'era': 1, '##dicate': 1, 'fear': 2, 'enemy': 1, 'eliminate': 1, 'restrictions': 1, 'personal': 1, 'calls': 1, 'instant': 1, 'messengers': 1, 'lunch': 2, '##es': 1, 'rec': 1, '##har': 1, '##ge': 1, 'meet': 1, 'beer': 1, 'food': 1, 'syn': 1, '##ergy': 1, 'ideas': 3, 'wouldn': 1, 'freedom': 1, 'general': 1, 'spend': 1, 'lives': 2, 'supposed': 1, 'miserable': 1, 'grind': 1, '20': 1, 'wake': 1, 'unacceptable': 1, 'ne': 1, '##pr': 1, '##ie': 1, '##ml': 1, '##iv': 1, 'summary': 1, 'uprising': 4, 'seriously': 1, 'band': 1, 'together': 3, 'fan': 1, 'flames': 1, 'share': 2, 'success': 1, 'stories': 1, 'worked': 1, 'rein': 1, '##gor': 1, '##ating': 1, 'schools': 1, 'promotes': 2, 'promise': 1, 'fulfillment': 1, 'ultimately': 1, 'creates': 1, 'meaning': 1, 'alone': 1, 'thank': 1}\n",
      "Doc has 581 new tokens\n",
      "{'radical': 1, 'open': 1, '##ness': 1, 'is': 54, 'still': 2, 'a': 38, 'distant': 1, 'future': 2, 'in': 80, 'the': 148, 'field': 3, 'of': 95, 'school': 20, 'education': 30, '.': 165, 'we': 28, 'have': 24, 'such': 2, 'hard': 1, 'time': 5, 'figuring': 1, 'out': 7, 'that': 65, 'learning': 6, 'not': 14, 'place': 2, 'but': 32, 'an': 6, 'activity': 1, 'i': 8, 'want': 6, 'to': 63, 'tell': 4, 'you': 56, 'story': 2, 'pisa': 14, ',': 191, 'o': 2, '##ec': 2, '##d': 2, \"'\": 53, 's': 27, 'test': 5, 'measure': 2, 'knowledge': 5, 'and': 96, 'skills': 4, '15': 3, 'year': 8, 'olds': 3, 'around': 5, 'world': 10, 'it': 19, 'really': 8, 'how': 18, 'international': 2, 'comparisons': 3, 'global': 3, '##ized': 1, 'usually': 3, 'treat': 1, 'look': 5, 'at': 9, 'looked': 2, '1960s': 1, 'terms': 4, 'proportion': 2, 'people': 17, 'who': 7, 'had': 4, 'completed': 1, 'high': 16, 'can': 29, 'see': 19, 'united': 2, 'states': 2, 'ahead': 1, 'everyone': 1, 'else': 4, 'much': 7, 'economic': 2, 'success': 6, 'draws': 1, 'on': 24, 'its': 11, 'long': 3, 'standing': 2, 'advantage': 1, 'as': 5, 'first': 4, 'move': 1, '##r': 1, '1970s': 1, 'some': 10, 'countries': 29, 'caught': 1, 'up': 7, '1980s': 1, 'expansion': 1, 'talent': 2, 'pool': 1, 'continued': 1, 'didn': 4, 't': 19, 'stop': 1, '1990s': 1, 'so': 17, '60s': 1, 'u': 1, 'was': 13, '90s': 1, '13th': 1, 'because': 4, 'standards': 4, 'fallen': 1, 'they': 42, 'risen': 1, 'faster': 1, 'elsewhere': 2, 'korea': 12, 'shows': 4, 'what': 29, 'possible': 5, 'two': 3, 'generations': 1, 'ago': 1, 'standard': 2, 'living': 1, 'afghanistan': 1, 'today': 6, 'one': 7, 'lowest': 2, 'performers': 3, 'every': 10, 'young': 5, 'korean': 1, 'finishes': 1, 'this': 18, 'tells': 3, 'us': 4, 'economy': 4, 'no': 5, 'longer': 2, 'national': 1, 'improvement': 6, 'bench': 1, '##mark': 1, 'for': 18, 'best': 2, 'performing': 9, 'systems': 16, 'internationally': 1, 'trouble': 1, 'measuring': 4, 'spend': 3, 'or': 7, 'degree': 1, 'got': 1, 'always': 1, 'good': 4, 'way': 5, 'seeing': 1, 'actually': 9, 'do': 11, 'toxic': 1, 'mix': 1, 'unemployed': 1, 'graduates': 1, 'our': 3, 'streets': 1, 'while': 1, 'employers': 1, 'say': 4, 'cannot': 1, 'find': 2, 'with': 12, 'need': 4, 'better': 9, 'degrees': 2, 'don': 3, 'automatically': 1, 'translate': 1, 'into': 10, 'jobs': 2, 'lives': 3, 'try': 1, 'change': 6, 'by': 6, 'directly': 1, 'took': 2, 'very': 20, 'special': 1, 'angle': 1, 'were': 6, 'less': 5, 'interested': 1, 'whether': 5, 'students': 18, 'simply': 1, 'reproduce': 1, 'learned': 3, 'wanted': 2, 'extra': 1, '##pol': 1, '##ate': 1, 'from': 11, 'know': 13, 'apply': 1, 'their': 17, 'novel': 1, 'situations': 1, 'now': 6, 'criticized': 1, 'outcomes': 7, 'terribly': 1, 'unfair': 2, 'problems': 2, 'haven': 3, 'seen': 4, 'before': 2, 'if': 8, 'take': 2, 'logic': 1, 'should': 3, 'consider': 1, 'life': 3, 'truth': 3, 'remember': 3, 'are': 24, 'prepared': 3, 'been': 4, 'created': 1, 'use': 1, 'technologies': 1, 'invented': 2, 'solve': 1, 'just': 7, 'anti': 1, '##ci': 1, '##pate': 1, 'once': 2, 'hot': 1, '##ly': 2, 'contested': 1, 'has': 9, 'quickly': 1, 'become': 4, 'latest': 1, 'assessment': 1, '2009': 1, 'measured': 1, '74': 1, 'together': 2, 'cover': 1, '87': 1, 'percent': 4, 'chart': 1, 'performance': 13, 'red': 3, 'sort': 2, 'below': 2, 'average': 2, 'yellow': 1, 'green': 2, 'doing': 6, 'well': 12, 'shanghai': 2, 'singapore': 1, 'asia': 2, 'finland': 4, 'europe': 2, 'canada': 1, 'north': 2, 'america': 2, 'three': 1, 'half': 2, 'years': 3, 'between': 5, 'chile': 1, 'gap': 1, 'grows': 1, 'seven': 1, 'when': 4, 'include': 1, 'poor': 3, 'there': 12, 'difference': 2, 'which': 8, 'introduce': 1, 'second': 1, 'important': 5, 'dimension': 1, 'picture': 3, 'educators': 2, 'like': 4, 'talk': 2, 'about': 10, 'equity': 8, 'deliver': 1, 'ensuring': 1, 'different': 3, 'social': 8, 'backgrounds': 1, 'equal': 1, 'chances': 2, 'impact': 1, 'background': 2, 'strong': 4, 'opportunities': 3, 'une': 1, '##qual': 1, 'distributed': 2, 'lot': 11, 'potential': 1, 'children': 7, 'wasted': 1, 'other': 10, 'matters': 3, 'context': 2, 're': 1, 'born': 2, 'all': 11, 'be': 9, 'upper': 1, 'right': 2, 'quadrant': 3, 'where': 10, 'equally': 1, 'nobody': 1, 'country': 4, 'afford': 2, 'large': 5, 'di': 5, '##spar': 5, '##ities': 5, 'then': 4, 'debate': 4, 'price': 2, '?': 15, 'focus': 4, 'accept': 1, 'med': 1, '##io': 1, '##cr': 1, '##ity': 1, 'come': 1, 'combining': 1, 'excellence': 6, 'fact': 1, 'most': 8, 'lessons': 1, 'comparison': 1, 'compromise': 1, 'achieve': 4, 'these': 3, 'moved': 2, 'providing': 2, 'lesson': 2, 'also': 8, 'challenges': 1, 'paradigm': 3, '##s': 5, 'many': 4, 'believe': 2, 'mainly': 2, 'ever': 1, 'since': 1, 'those': 12, 'results': 4, 'came': 1, 'policy': 6, '##makers': 3, 'researchers': 1, 'behind': 1, 'let': 3, 'step': 1, 'back': 2, 'moment': 1, 'started': 1, 'm': 3, 'giving': 1, 'them': 6, 'colored': 1, 'bubble': 3, 'making': 1, 'size': 2, 'proportional': 1, 'amount': 1, 'money': 8, 'spent': 4, 'would': 5, 'everything': 1, 'quality': 5, 'bubbles': 2, 'top': 1, 'spending': 3, 'per': 3, 'student': 7, 'only': 8, 'explains': 1, 'than': 6, '20': 1, 'variation': 2, 'among': 2, 'luxembourg': 5, 'example': 3, 'expensive': 2, 'system': 5, 'doesn': 3, 'particularly': 2, 'similar': 2, 'think': 1, 'encouraging': 1, 'findings': 1, 'live': 1, 'neatly': 1, 'divided': 2, 'rich': 1, 'educated': 2, 'badly': 1, 'ones': 1, 'greater': 1, 'detail': 1, 'dot': 2, 'relative': 3, 'wealth': 1, 'paying': 1, 'teachers': 20, 'investing': 1, 'attracting': 1, 'teaching': 3, 'profession': 1, 'invest': 4, 'days': 1, 'drives': 1, 'costs': 4, 'further': 1, 'last': 2, 'least': 2, 'koreans': 2, 'teach': 2, 'develop': 2, 'professional': 3, 'development': 2, 'collaboration': 1, 'things': 2, 'answer': 1, 'learn': 2, 'classes': 2, 'blue': 2, 'bar': 2, 'driving': 2, 'down': 1, 'go': 3, 'next': 3, 'list': 1, 'exactly': 1, 'spends': 1, 'same': 1, 'does': 2, 'parents': 2, 'small': 3, 'pleasant': 1, 'walk': 1, 'class': 4, 'invested': 1, 'even': 2, 'paid': 1, 'hours': 1, 'basically': 1, 'little': 1, 'anything': 1, 'differently': 1, 'more': 4, '2000': 3, 'ipod': 1, 'thing': 1, 'smaller': 1, '35': 1, 'ask': 1, 'yourself': 1, 'bitter': 1, 'impressive': 5, 'improvements': 2, 'germany': 4, 'my': 4, 'own': 3, 'featured': 1, 'lower': 1, 'used': 1, 'comes': 1, 'count': 1, 'disappointing': 1, 'stunned': 1, 'public': 4, 'dominated': 1, 'months': 1, 'tax': 1, 'kinds': 1, 'issues': 2, 'center': 3, 'began': 1, 'respond': 1, 'federal': 1, 'government': 1, 'dramatically': 2, 'raised': 2, 'investment': 2, 'done': 2, 'increase': 1, 'immigrant': 1, 'disadvantage': 1, 'interesting': 2, 'wasn': 1, 'opt': 1, '##imi': 1, '##zing': 1, 'existing': 1, 'policies': 4, 'data': 2, 'transformed': 2, 'beliefs': 1, 'underlying': 1, 'german': 2, 'traditionally': 2, 'women': 1, 'neglect': 1, '##ing': 1, 'family': 1, 'responsibilities': 1, 'sent': 1, 'kindergarten': 1, 'pushed': 1, 'early': 2, 'childhood': 1, 'divides': 1, 'age': 1, '10': 2, 'deemed': 1, 'pursue': 1, 'careers': 2, 'workers': 3, 'end': 2, 'working': 1, 'along': 1, 'socio': 1, '##economic': 1, 'lines': 1, 'being': 1, 'challenged': 1, 'too': 1, 'news': 1, 'nine': 2, 'later': 1, 'taken': 2, 'challenge': 3, 'something': 3, 'spectrum': 2, 'did': 2, 'already': 1, 'concerned': 1, 'share': 3, 'achieved': 3, 'levels': 3, 'able': 2, 'double': 1, 'achieving': 1, 'decade': 1, 'reading': 1, 'your': 2, 'brightest': 1, 'happens': 1, 'grow': 2, 'moving': 2, 'slightly': 1, 'direction': 1, 'major': 1, 'overhaul': 1, 'poland': 2, 'helped': 4, 'reduce': 1, 'variability': 1, 'schools': 5, 'turn': 1, 'raise': 2, 'over': 2, 'portugal': 1, 'consolidate': 1, 'fragmented': 1, 'improve': 3, 'hungary': 1, 'complain': 1, 'artifact': 1, 'culture': 2, 'factors': 2, 'homo': 1, '##gen': 1, '##eit': 1, '##y': 1, 'societies': 1, 'must': 1, 'con': 1, '##cede': 1, 'hasn': 1, 'changed': 2, 'compositions': 1, 'population': 1, 'fire': 1, 'practice': 2, 'raises': 1, 'course': 3, 'question': 2, 'works': 1, 'provide': 4, 'model': 1, 'copy': 1, 'paste': 1, 'wholesale': 1, 'identified': 1, 'range': 1, 'everybody': 3, 'agrees': 1, 'says': 1, 'weigh': 1, 'priority': 1, 'against': 1, 'priorities': 1, 'pay': 2, 'highly': 1, 'skilled': 1, 'child': 2, 'teacher': 4, 'rather': 1, 'lawyer': 1, 'media': 1, 'critical': 1, 'questions': 1, 'leaders': 2, 'convinced': 1, 'citizens': 1, 'make': 4, 'choices': 1, 'value': 2, 'consumption': 1, 'won': 1, 'attractive': 1, 'shopping': 1, 'exist': 1, 'placing': 1, 'part': 2, 'belief': 2, 'capable': 1, 'segregated': 1, 'ages': 1, 'reflecting': 1, 'linked': 1, 'japan': 1, 'expect': 1, 'succeed': 1, 'mirrored': 1, 'behavior': 1, 'asked': 1, 'counts': 1, 'mathematics': 1, 'typically': 1, 'genius': 1, 'math': 1, 'd': 1, 'study': 1, 'japanese': 1, 'depends': 1, 'effort': 1, 'past': 4, 'taught': 1, 'ways': 1, 'embrace': 1, 'diversity': 1, 'differentiated': 1, 'pe': 3, '##da': 3, '##go': 3, '##gical': 2, 'practices': 2, 'realize': 1, 'ordinary': 1, 'extraordinary': 1, 'talents': 1, 'personal': 1, '##ize': 1, 'clear': 3, 'ambitious': 2, 'across': 3, 'entire': 2, 'knows': 2, 'required': 1, 'successful': 2, 'nowhere': 1, 'exceed': 1, 'careful': 1, 'recruit': 1, 'select': 1, 'train': 1, 'watch': 1, 'performances': 1, 'difficulties': 1, 'struggling': 1, 'structure': 1, 'environment': 1, 'work': 2, 'frame': 1, 'intelligent': 1, 'pathways': 1, 'bureau': 1, '##cratic': 1, 'often': 1, 'left': 1, 'alone': 1, 'classrooms': 1, 'prescription': 1, 'set': 2, 'enable': 3, 'figure': 1, 'delivered': 1, 'wisdom': 2, 'user': 1, 'generated': 1, 'administrative': 2, 'forms': 3, 'accountability': 1, 'control': 2, 'organization': 1, 'innovations': 1, '##gy': 1, 'kind': 1, 'stronger': 1, 'goal': 1, 'standardization': 1, 'compliance': 1, 'made': 1, 'principals': 3, '##vent': 1, '##ive': 1, 'provision': 1, 'outward': 1, 've': 1, 'makes': 1, 'five': 1, 'amongst': 1, 'lies': 2, 'succeeds': 1, 'systemic': 1, 'resources': 1, 'attract': 1, 'strongest': 1, 'tough': 1, '##est': 1, 'talented': 1, 'challenging': 1, 'classroom': 1, 'align': 1, 'areas': 1, 'coherent': 1, 'sustained': 1, 'periods': 1, 'ensure': 1, 'consistently': 1, 'implemented': 1, 'knowing': 1, 'yet': 1, 'limits': 1, 'research': 1, 'kick': 1, 'why': 1, 'venture': 1, 'telling': 2, 'strength': 1, 'powerful': 1, 'financial': 1, 'subsidy': 1, 'through': 1, 'run': 1, 'argue': 1, 'changing': 1, 'educational': 1, 'administration': 1, 'graveyard': 1, 'rely': 1, 'help': 2, 'shown': 1, 'away': 1, 'excuses': 1, 'com': 1, '##pl': 1, '##ace': 1, '##nt': 1, 'meaningful': 1, 'targets': 1, 'me': 1, '##asurable': 1, 'goals': 1, 'principal': 1, 'parent': 1, 'sky': 1, 'limit': 1, 'laid': 1, 'foundations': 1, 'thank': 1}\n",
      "Doc has 467 new tokens\n",
      "{'i': 5, \"'\": 17, 'd': 1, 'like': 9, 'to': 34, 'talk': 1, 'you': 9, 'today': 2, 'about': 3, 'the': 52, 'scale': 2, 'of': 43, 'scientific': 5, 'effort': 2, 'that': 13, 'goes': 1, 'into': 2, 'making': 1, 'headlines': 5, 'see': 1, 'in': 18, 'paper': 3, '.': 58, 'look': 6, 'this': 15, 'when': 4, 'they': 6, 'have': 7, 'do': 5, 'with': 3, 'climate': 3, 'change': 2, ',': 51, 'and': 28, 'air': 1, 'quality': 1, 'or': 7, 'sm': 2, '##og': 2, 'are': 4, 'both': 1, 'two': 2, 'branches': 1, 'same': 1, 'field': 4, 'atmospheric': 6, 'science': 1, 'recently': 2, 'looked': 1, 'inter': 1, '##go': 1, '##vern': 1, '##mental': 1, 'panel': 1, 'on': 12, 'ip': 3, '##cc': 3, 'put': 1, 'out': 2, 'their': 1, 'report': 2, 'state': 1, 'understanding': 2, 'system': 3, 'was': 2, 'written': 2, 'by': 3, '620': 1, 'scientists': 5, 'from': 5, '40': 1, 'countries': 2, 'wrote': 1, 'almost': 1, 'a': 20, 'thousand': 1, 'pages': 2, 'topic': 1, 'all': 5, 'those': 3, 'were': 3, 'reviewed': 1, 'another': 1, '400': 1, 'plus': 1, 'reviewers': 1, '113': 1, 'it': 16, 's': 11, 'big': 2, 'community': 2, 'such': 1, 'fact': 1, 'our': 3, 'annual': 1, 'gathering': 1, 'is': 12, 'largest': 1, 'meeting': 1, 'world': 2, 'over': 2, '15': 2, '000': 2, 'go': 2, 'san': 1, 'francisco': 1, 'every': 4, 'year': 2, 'for': 6, 'one': 10, 'research': 3, 'group': 2, 'studies': 1, 'wide': 1, 'variety': 1, 'topics': 2, 'us': 2, 'at': 5, 'cambridge': 1, 'as': 7, 'varied': 1, 'el': 1, 'ni': 1, '##a': 1, '##±': 1, '##o': 1, 'os': 1, '##ci': 1, '##llation': 1, 'which': 5, 'affects': 1, 'weather': 1, 'assimilation': 1, 'satellite': 1, 'data': 1, 'emissions': 1, 'crops': 1, 'produce': 1, 'bio': 1, '##fu': 1, '##els': 1, 'what': 4, 'happen': 2, 'study': 4, 'each': 4, 'these': 3, 'areas': 1, 'there': 5, 'even': 2, 'more': 1, 'phd': 1, 'students': 1, 'me': 2, 'we': 22, 'incredibly': 2, 'narrow': 2, 'things': 2, 'few': 4, 'processes': 2, 'molecules': 4, 'called': 1, 'iso': 3, '##pre': 3, '##ne': 3, 'here': 2, 'small': 2, 'organic': 1, 'molecule': 5, 've': 1, 'probably': 2, 'never': 1, 'heard': 1, 'weight': 4, 'clip': 1, 'approximately': 1, 'equal': 3, '900': 1, 'zeta': 1, 'ill': 1, '##ion': 1, '10': 1, '21st': 1, 'but': 3, 'despite': 1, 'its': 1, 'very': 2, 'enough': 1, 'emitted': 1, 'atmosphere': 1, 'people': 2, 'planet': 1, 'huge': 1, 'amount': 1, 'stuff': 3, 'methane': 1, 'because': 2, 'so': 4, 'much': 2, 'really': 1, 'important': 2, 'lengths': 1, 'thing': 2, 'blow': 1, 'up': 3, 'pieces': 2, 'eu': 1, '##ph': 1, '##ore': 1, 'chamber': 1, 'spain': 1, 'explosions': 1, 'full': 1, 'combustion': 1, 'takes': 2, 'times': 2, 'longer': 1, 'than': 1, 'happens': 1, 'your': 1, 'car': 1, 'still': 1, 'run': 2, 'enormous': 1, 'models': 2, 'super': 1, '##com': 1, '##put': 1, '##ers': 1, 'hundreds': 3, 'thousands': 2, 'grid': 1, 'boxes': 1, 'calculating': 1, 'variables': 1, 'minute': 1, '##cal': 1, '##es': 1, 'weeks': 1, 'perform': 2, 'integration': 2, '##s': 3, 'dozens': 1, 'order': 4, 'understand': 2, 'happening': 1, 'also': 1, 'fly': 3, 'looking': 1, 'joined': 1, 'campaign': 3, 'malaysia': 1, 'others': 2, 'found': 1, 'global': 1, 'watch': 1, '##tower': 1, 'middle': 2, 'rainforest': 2, 'hung': 1, 'dollars': 1, 'worth': 1, 'equipment': 1, 'off': 1, 'tower': 3, 'course': 1, 'other': 1, 'while': 2, 'above': 2, 'below': 1, 'part': 1, 'brought': 1, 'an': 2, 'aircraft': 3, 'plane': 2, 'model': 1, 'ba': 1, '##14': 1, '##6': 1, 'faa': 1, '##m': 1, 'normally': 1, 'flies': 1, '120': 1, '130': 1, 'maybe': 1, 'took': 2, 'similar': 1, 'get': 4, 'didn': 1, 't': 2, 'just': 1, 'flying': 2, '100': 1, 'meters': 1, 'top': 1, 'canopy': 1, 'measure': 1, 'dangerous': 1, 'special': 2, 'incline': 1, 'make': 4, 'measurements': 3, 'hire': 1, 'military': 1, 'test': 1, 'pilots': 1, 'maneuver': 1, '##ing': 1, 'flight': 1, 'clearance': 1, 'come': 1, 'around': 1, 'banks': 1, 'valleys': 1, 'forces': 1, 'can': 3, 'gs': 1, 'be': 1, 'completely': 1, 'harness': 1, '##ed': 1, 're': 1, 'board': 1, 'imagine': 2, 'inside': 1, 'doesn': 1, 'any': 1, 'would': 1, 'take': 1, 'vacation': 1, 'laboratory': 1, 'region': 1, 'chemistry': 1, 'student': 1, 'has': 2, 'some': 1, 'sort': 1, 'inclination': 1, 'write': 2, 'subject': 1, 'll': 1, 'dozen': 2, 'papers': 1, 'body': 1, 'knowledge': 1, 'builds': 1, 'will': 1, 'form': 1, 'sub': 4, '##section': 3, 'assessment': 1, 'although': 1, '11': 1, 'chapters': 1, 'six': 1, 'ten': 1, 'assessments': 1, 'always': 1, 'tag': 1, 'summary': 3, 'non': 1, 'audience': 1, 'hand': 1, 'journalists': 1, 'policy': 1, 'makers': 1, 'thank': 1}\n",
      "Doc has 158 new tokens\n",
      "{'hi': 1, '.': 48, 'i': 6, \"'\": 34, 'm': 2, 'going': 6, 'to': 32, 'ask': 1, 'you': 29, 'raise': 1, 'your': 8, 'arms': 3, 'and': 12, 'wave': 2, 'back': 2, ',': 43, 'just': 2, 'the': 33, 'way': 1, 'am': 1, 'kind': 1, 'of': 13, 'a': 7, 'royal': 1, 'can': 14, 'mimic': 1, 'what': 4, 'see': 4, 'program': 2, 'hundreds': 2, 'muscles': 1, 'in': 18, 'arm': 2, 'soon': 4, 'll': 1, 'be': 6, 'able': 5, 'look': 8, 'inside': 5, 'brain': 20, 'control': 7, 'areas': 4, 'that': 23, 'there': 3, 'tell': 1, 'about': 1, 'technology': 5, 'people': 2, 'have': 6, 'wanted': 1, 'human': 3, 'mind': 4, 'for': 2, 'thousands': 1, 'years': 2, 'well': 1, 'coming': 1, 'out': 1, 'research': 1, 'labs': 1, 'now': 4, 'our': 3, 'generation': 2, 'is': 9, 'possibility': 1, 'do': 8, 'en': 1, '##vision': 1, 'this': 11, 'as': 4, 'being': 2, 'very': 1, 'difficult': 1, 'had': 1, 'take': 3, 'spaceship': 1, 'shrink': 1, 'it': 8, 'down': 1, '##ject': 2, 'into': 7, 'blood': 2, '##stream': 1, 'was': 1, 'terribly': 1, 'dangerous': 1, 'could': 1, 'attacked': 1, 'by': 1, 'white': 1, 'cells': 1, 'arteries': 1, 'but': 6, 'we': 19, 'real': 4, 're': 10, 'fly': 3, 'my': 2, 'colleague': 1, 'peter': 5, 's': 12, 'non': 1, 'invasive': 1, '##ly': 1, 'using': 2, 'mri': 1, 'don': 3, 't': 3, 'anything': 1, 'need': 1, 'radiation': 1, 'will': 5, 'anatomy': 1, 'literally': 2, 'his': 5, 'body': 1, 'more': 1, 'importantly': 1, 'when': 3, 'moves': 1, 'yellow': 1, 'spot': 1, 'interface': 1, 'functioning': 1, 'taking': 1, 'place': 1, 've': 4, 'seen': 2, 'before': 1, 'with': 2, 'electrode': 1, '##s': 3, 'robotic': 1, 'imaging': 1, 'scanner': 2, 'show': 1, 'insides': 1, 'brains': 2, 'new': 1, 'process': 2, 'has': 1, 'typically': 1, 'taken': 1, 'days': 1, 'or': 2, 'months': 2, 'analysis': 1, 'collapsed': 1, 'through': 1, 'mill': 1, '##ise': 1, '##con': 1, '##ds': 1, 'allows': 1, 'us': 1, 'let': 1, 'at': 4, 'time': 5, 'he': 4, 'these': 3, '65': 1, '000': 1, 'points': 1, 'activation': 4, 'per': 1, 'second': 1, 'if': 4, 'pattern': 1, 'own': 4, 'learn': 1, 'how': 1, 'been': 1, 'three': 1, 'ways': 1, 'try': 1, 'impact': 1, 'therapist': 1, 'couch': 1, 'pills': 1, 'knife': 1, 'fourth': 1, 'alternative': 1, 'are': 4, 'all': 3, 'know': 1, 'form': 3, 'thoughts': 1, 'they': 7, 'deep': 1, 'channels': 1, 'minds': 1, 'chronic': 3, 'pain': 10, 'an': 2, 'example': 1, 'burn': 1, 'yourself': 3, 'pull': 1, 'hand': 1, 'away': 1, 'still': 1, 'six': 2, 'because': 1, 'circuits': 1, 'producing': 2, 'no': 1, 'longer': 1, 'helping': 1, '3d': 1, 'models': 1, 'watch': 1, 'information': 1, 'then': 1, 'select': 2, 'produce': 1, 'so': 1, 'put': 1, 'up': 1, 'flex': 2, 'bi': 1, '##ce': 1, '##p': 1, 'imagine': 1, 'same': 1, 'thing': 1, 'seeing': 2, 'here': 1, 'selected': 1, 'pathways': 1, 'patient': 1, 'may': 1, 'shock': 1, 'reading': 1, 'person': 1, 'watching': 1, 'their': 7, 'controlling': 1, 'pathway': 1, 'produces': 1, 'learning': 1, 'system': 1, 'releases': 1, 'end': 1, '##ogen': 1, '##ous': 1, 'op': 1, '##iate': 1, 'upper': 1, 'left': 1, 'display': 1, 'yo': 1, '##ked': 1, 'controlled': 1, 'investigation': 1, '##al': 1, 'clinical': 1, 'trials': 1, '44': 1, '64': 1, 'percent': 1, 'decrease': 1, 'patients': 1, 'not': 1, 'matrix': 1, 'only': 1, 'too': 1, 'want': 2, '?': 2, 'aspects': 1, 'make': 1, 'experiences': 1, 'some': 1, 'working': 1, 'on': 1, 'today': 1, 'go': 1, 'detail': 1, 'leave': 1, 'big': 1, 'question': 1, 'first': 1, 'enter': 1, 'where': 1}\n",
      "Doc has 95 new tokens\n",
      "{'evidence': 1, 'suggests': 1, 'that': 29, 'humans': 1, 'in': 44, 'all': 7, 'ages': 1, 'and': 65, 'from': 7, 'cultures': 1, 'create': 1, 'their': 13, 'identity': 5, 'some': 2, 'kind': 3, 'of': 63, 'narrative': 7, 'form': 2, '.': 89, 'mother': 5, 'to': 43, 'daughter': 3, ',': 150, 'preacher': 1, 'cong': 1, '##re': 1, '##gan': 1, '##t': 2, 'teacher': 1, 'pupil': 1, 'story': 9, '##tell': 3, '##er': 4, 'audience': 3, 'whether': 1, 'cave': 1, 'paintings': 1, 'or': 5, 'the': 86, 'latest': 1, 'uses': 1, 'internet': 1, 'human': 5, 'beings': 1, 'have': 10, 'always': 2, 'told': 4, 'histories': 1, 'truths': 1, 'through': 1, 'para': 1, '##ble': 2, 'fable': 1, 'we': 27, 'are': 8, '##vet': 1, '##erate': 1, '##ers': 1, 'but': 8, 'where': 2, 'our': 10, 'increasingly': 3, 'secular': 1, 'fragmented': 2, 'world': 6, 'do': 4, 'offer': 1, 'communal': 2, '##ity': 3, 'experience': 5, 'un': 2, '##media': 1, '##ted': 2, 'by': 8, 'own': 1, 'furious': 1, 'consumer': 1, '##ism': 1, '?': 11, 'what': 15, 'history': 2, 'moral': 2, 'code': 1, 'imp': 1, '##art': 1, '##ing': 1, 'young': 12, 'cinema': 2, 'is': 17, 'arguably': 1, '20th': 1, 'century': 2, \"'\": 22, 's': 15, 'most': 5, 'influential': 1, 'art': 3, 'its': 3, 'artists': 1, 'stories': 5, 'across': 4, 'national': 1, 'boundaries': 1, 'as': 21, 'many': 1, 'languages': 1, 'genres': 1, 'phil': 1, '##oso': 1, '##phi': 1, '##es': 1, 'one': 5, 'can': 2, 'imagine': 2, 'indeed': 1, 'it': 18, 'hard': 1, 'find': 3, 'a': 53, 'subject': 1, 'film': 17, 'has': 4, 'yet': 2, 'tackle': 1, 'during': 1, 'last': 2, 'decade': 1, 've': 2, 'seen': 2, 'vast': 1, 'integration': 1, 'global': 1, 'media': 1, 'now': 4, 'dominated': 1, 'culture': 2, 'hollywood': 1, 'blockbuster': 1, 'offered': 3, 'diet': 2, 'which': 3, 'sensation': 1, 'not': 8, 'king': 1, 'was': 20, 'common': 1, 'us': 1, '40': 2, 'years': 5, 'ago': 1, 'telling': 1, 'between': 2, 'generations': 1, 'ra': 1, '##rified': 1, 'filmmaker': 1, 'worried': 1, 'me': 5, 'being': 2, 'puts': 1, 'fear': 2, 'god': 1, 'future': 1, 'could': 7, 'build': 2, 'with': 16, 'so': 5, 'little': 2, 'grasp': 1, 'they': 17, 'come': 1, 'few': 1, 'narratives': 1, 'possible': 1, 'irony': 1, 'pal': 2, '##pa': 2, 'technical': 1, 'access': 3, 'never': 5, 'been': 2, 'greater': 1, 'cultural': 2, 'weaker': 1, '2006': 1, 'set': 1, 'up': 3, '##cl': 4, '##ub': 4, 'an': 10, 'organization': 1, 'ran': 2, 'weekly': 1, 'screenings': 1, 'schools': 2, 'followed': 1, 'discussions': 1, 'if': 3, 'raid': 1, 'annals': 1, '100': 1, 'maybe': 1, 'would': 3, 'deliver': 1, 'meaning': 2, 'restless': 2, 'given': 1, 'technology': 2, 'even': 1, 'school': 4, 'tiny': 1, 'rural': 1, 'hamlet': 1, 'project': 1, 'dvd': 1, 'onto': 2, 'white': 3, 'board': 1, 'first': 3, 'nine': 1, 'months': 1, '25': 2, 'clubs': 3, 'u': 1, 'k': 1, 'kids': 3, 'age': 1, 'groups': 2, 'five': 1, '18': 1, 'watching': 3, '##int': 1, '##rup': 1, 'for': 7, '90': 1, 'minutes': 1, 'films': 6, 'were': 4, 'curated': 1, 'context': 2, '##ual': 1, '##ized': 1, 'choice': 2, 'theirs': 1, 'quickly': 1, 'grew': 1, 'choose': 2, 'richest': 1, 'varied': 1, 'provide': 1, 'outcome': 1, 'immediate': 1, 'education': 2, 'profound': 1, 'transform': 1, '##ative': 1, 'large': 1, '150': 1, 'small': 1, 'three': 3, 'these': 5, 'people': 7, 'discovered': 1, 'new': 3, 'places': 1, 'thoughts': 1, 'perspectives': 1, 'time': 1, 'pilot': 1, 'had': 7, 'finished': 1, 'names': 1, 'thousand': 2, 'wished': 1, 'join': 1, 'changed': 2, 'my': 10, 'life': 3, '1951': 1, 'vittorio': 1, 'de': 2, 'sic': 2, '##a': 2, 'miracle': 2, 'milan': 2, 'remarkable': 1, 'comment': 1, 'on': 11, 'sl': 3, '##ums': 1, 'poverty': 1, '##piration': 1, 'i': 6, 'occasion': 1, 'father': 5, '50th': 1, 'birthday': 1, 'then': 3, 'meant': 1, 'hire': 1, 'viewing': 1, 'pay': 1, 'print': 1, 'projection': 1, '##ist': 1, 'emotional': 2, 'artistic': 1, 'importance': 1, 'vision': 1, 'great': 3, 'he': 6, 'chose': 1, 'celebrate': 1, 'his': 5, 'half': 1, 'teenage': 1, 'children': 2, '30': 2, 'friends': 3, 'order': 1, 'said': 2, 'pass': 1, 'baton': 1, 'concern': 1, 'hope': 1, 'next': 3, 'generation': 1, 'shot': 1, '##um': 2, 'dwellers': 1, 'float': 1, 'sky': 1, '##ward': 1, 'flying': 1, 'broom': 1, '##s': 6, 'sixty': 1, 'after': 7, 'made': 2, 'saw': 1, 'see': 2, 'faces': 1, 'tilt': 1, 'awe': 1, 'inc': 2, '##red': 1, '##uli': 1, '##ty': 1, 'matching': 1, 'mine': 1, 'speed': 1, 'associate': 1, '##dog': 1, 'millionaire': 1, 'fa': 1, '##vel': 1, '##as': 1, 'rio': 1, 'speaks': 1, 'enduring': 1, 'nature': 1, 'season': 1, 'about': 3, 'democracy': 1, 'government': 1, 'screened': 1, 'mr': 2, 'smith': 2, 'goes': 1, 'washington': 1, '1939': 1, 'older': 1, 'than': 4, 'members': 2, 'grandparents': 2, 'frank': 2, 'cap': 1, '##ra': 1, 'classic': 2, 'values': 2, 'independence': 1, 'prop': 1, '##riety': 1, 'shows': 1, 'how': 8, 'right': 4, 'be': 4, 'heroic': 1, '##ally': 1, 'awkward': 1, 'also': 1, 'expression': 1, 'faith': 1, 'political': 1, 'machine': 1, 'force': 1, 'honor': 4, 'shortly': 1, 'became': 5, 'there': 3, 'week': 4, 'night': 1, 'fi': 3, '##lib': 3, '##ust': 3, '##ering': 2, 'house': 1, 'lords': 2, 'delight': 1, 'found': 2, 'down': 1, 'country': 2, 'explaining': 1, 'authority': 1, 'why': 2, 'might': 1, 'def': 2, '##y': 2, 'bed': 1, '##time': 1, 'point': 1, 'principle': 1, 'jimmy': 1, 'stewart': 1, '##ered': 1, 'two': 3, 'entire': 1, 'reel': 2, 'choosing': 1, 'hotel': 2, 'rwanda': 2, 'explored': 1, 'genocide': 1, 'brutal': 1, 'provoked': 1, 'tears': 1, 'well': 2, '##isi': 1, '##ve': 1, 'questions': 2, 'unarmed': 1, 'peace': 1, 'keeping': 1, 'forces': 1, 'double': 1, 'dealing': 1, 'western': 1, 'society': 1, 'picks': 1, 'fights': 1, 'commodities': 1, 'mind': 1, 'when': 4, 'sc': 1, '##hin': 1, '##dler': 1, 'list': 1, 'demanded': 1, 'forget': 1, 'child': 1, 'full': 1, 'pain': 1, 'consciousness': 1, 'remarked': 1, 'already': 1, 'forgot': 1, 'otherwise': 1, 'did': 1, 'happen': 1, 'watch': 2, 'more': 3, 'lives': 1, 'got': 1, '##bly': 1, 'richer': 1, 'pick': 1, '##po': 1, '##cke': 1, 'started': 4, 'debate': 1, 'criminal': 1, 'di': 2, '##sen': 1, '##fra': 1, '##nch': 1, '##ise': 1, '##ment': 1, 'sir': 1, 'love': 2, 'ignited': 1, 'teen': 1, 'celebrated': 1, 'change': 1, 'attitude': 1, 'towards': 1, 'non': 2, 'brit': 1, '##ons': 1, 'rail': 1, '##ed': 1, 'against': 1, 'system': 1, 'does': 1, 'value': 1, 'collective': 2, 'unlike': 1, 'sidney': 1, 'po': 1, '##iti': 1, 'careful': 1, 'tu': 1, '##tel': 1, '##age': 1, 'thoughtful': 1, 'opinion': 1, '##ated': 1, 'curious': 2, 'thought': 2, 'nothing': 2, 'tack': 1, '##ling': 1, 'forms': 1, 'black': 1, 'sub': 1, '##titled': 1, 'documentary': 1, 'fantasy': 1, 'writing': 1, 'detailed': 2, 'reviews': 2, 'competed': 1, 'favor': 1, 'over': 2, 'another': 1, 'passionate': 1, 'sophisticated': 1, 'prose': 1, 'six': 1, 'each': 3, 'v': 1, '##ying': 1, 'review': 1, 'hundreds': 1, 'thousands': 1, 'until': 1, 'nearly': 1, 'quarter': 1, 'million': 1, '7': 1, '000': 1, 'although': 1, 'numbers': 1, 'continue': 1, 'extraordinary': 2, 'critical': 1, 'questioning': 1, 'translated': 1, 'into': 2, 'talking': 1, 'parents': 2, 'others': 1, 'teachers': 2, 'those': 2, 'without': 4, 'making': 1, 'them': 2, 'provided': 2, 'manner': 1, 'divide': 1, 'held': 2, 'shared': 1, 'per': 1, '##se': 1, '##polis': 1, 'brought': 1, 'closer': 1, 'her': 6, 'iranian': 1, 'jaws': 1, 'way': 1, 'boy': 2, 'able': 1, '##iculate': 1, 'd': 1, 'experienced': 1, 'flight': 1, 'violence': 1, 'killed': 1, 'latter': 1, 'thrown': 1, 'overboard': 1, 'boat': 2, 'journey': 2, 'who': 9, 'wrong': 1, 'under': 1, 'same': 2, 'conditions': 2, 'tale': 1, 'hidden': 1, 'message': 1, 'different': 3, 'tsunami': 1, 'flew': 1, 'out': 3, 'mouths': 1, 'didn': 1, 't': 1, 'think': 1, 'interested': 1, 'themselves': 3, 'known': 1, 'cared': 1, 'wrote': 1, 'debated': 1, 'rather': 1, 'seeing': 1, 'artifacts': 1, 'began': 1, 'aunt': 2, 'wonderful': 1, 'moment': 1, 'she': 2, '##vo': 1, '##ke': 1, 'images': 1, 'running': 1, 'barefoot': 1, 'table': 1, 'mountain': 1, 'playing': 1, 'cops': 1, 'robbers': 1, 'quite': 1, 'recently': 1, '1948': 1, 'sisters': 1, 'traveled': 1, 'israel': 1, 'sailors': 1, 'mu': 1, '##tin': 1, '##ied': 1, 'at': 2, 'sea': 1, 'demand': 1, 'humane': 1, 'teenagers': 1, 'fed': 1, 'crew': 1, 'past': 1, 'died': 1, 'mentioned': 1, 'left': 1, 'europe': 1, 'hurry': 1, 'husband': 1, 'year': 2, 'old': 2, 'diamonds': 1, 'se': 1, '##wn': 1, 'hem': 1, 'skirt': 1, 'hiding': 1, 'grandfather': 1, 'appeared': 2, 'london': 1, 'again': 1, 'hushed': 1, 'ass': 1, '##imi': 1, '##lated': 1, 'england': 2, 'clean': 1, 'slate': 1, 'silence': 1, 'immigrant': 1, 'anne': 1, 'escape': 1, 'sho': 1, '##ah': 1, 'triumph': 1, 'will': 1, 'len': 1, '##i': 1, 'ri': 1, '##efe': 1, '##nst': 1, '##ahl': 1, 'elegant': 1, 'nazi': 1, 'propaganda': 1, 'gave': 1, 'family': 1, 'endure': 1, 'too': 3, 'hurt': 1, '##ful': 1, 'say': 1, 'loud': 1, 'useful': 1, 'whispers': 1, 'survivors': 1, 'occasional': 1, 'glimpse': 1, 'tattoo': 1, 'maiden': 1, 'wrist': 1, 'pu': 1, '##rist': 1, 'may': 2, 'feel': 1, 'fiction': 1, '##ssi': 1, '##pate': 1, 'quest': 1, 'real': 2, 'understanding': 3, 'crude': 1, 'tell': 2, 'complex': 1, 'filmmakers': 1, 'serve': 1, 'drama': 2, 'truth': 1, 'within': 1, 'lie': 1, 'purpose': 1, '12': 1, 'wizard': 1, 'oz': 1, 'every': 1, 'person': 2, 'should': 1, 'this': 1, 'because': 2, 'unless': 1, 'you': 4, 'know': 1, 'heart': 1, 'reading': 1, 'passion': 1, 'consider': 1, 'citizen': 1, 'kane': 1, 'valuable': 1, 'jane': 1, 'austen': 1, 'agree': 1, '##z': 1, 'n': 1, 'hood': 1, 'like': 2, 'ten': 1, '##ny': 1, '##son': 1, 'offers': 1, 'landscape': 1, 'heightened': 1, 'work': 1, 'together': 1, 'piece': 1, 'memorable': 1, 'brick': 1, 'wall': 1, 'okay': 1, 'remember': 1, 'tom': 1, 'hank': 1, 'better': 1, 'astronaut': 1, 'jim': 1, '##ll': 1, 'ben': 1, 'kingsley': 1, 'face': 1, 'super': 1, '##im': 1, '##posed': 1, 'gandhi': 1, 'though': 1, 'eve': 1, 'harrington': 1, 'howard': 1, 'beale': 1, 'mildred': 1, 'pierce': 1, 'opportunity': 1, 'discover': 1, 'no': 1, 'less': 1, 'helpful': 1, 'times': 1, 'shakespeare': 1, 'illuminating': 1, 'elizabeth': 1, '##an': 1, 'guessed': 1, 'whose': 1, 'meeting': 1, 'place': 1, 'music': 1, 'literature': 1, 'engage': 1, 'inspire': 1, 'participating': 1, 'fore': 1, '##see': 1, '##n': 1, '##asurable': 1, 'improvements': 1, 'behavior': 1, 'confidence': 1, 'academic': 1, 'achievement': 1, 'once': 1, 'reluctant': 1, 'students': 1, 'race': 1, 'talk': 1, 'fight': 1, 'playground': 1, 'self': 2, 'definition': 1, 'ambition': 1, 'appetite': 1, 'social': 1, 'engagement': 1, 'witnessed': 1, 'binary': 1, 'description': 1, 'often': 1, 'describe': 1, 'neither': 1, 'feral': 1, 'nor': 1, '##op': 1, '##ically': 1, 'absorbed': 1, 'other': 1, 'negotiating': 1, 'infinite': 1, 'meaningful': 1, 'surprised': 1, 'behaviors': 1, 'define': 1, 'size': 1, 'tick': 1, 'shoes': 1, 'acquisition': 1, 'want': 1, 'understands': 1, 'individual': 1, 'essential': 2, 'component': 2, 'impossible': 1, 'yourself': 1, 'part': 1, 'group': 1, 'get': 1, 'home': 1, 'screening': 1, 'rear': 1, 'window': 1, 'raise': 1, 'gaze': 1, 'building': 1, 'door': 1, 'tools': 1, 'wonder': 1, 'apart': 1, 'thank': 1}\n",
      "Doc has 493 new tokens\n",
      "{'thank': 4, 'you': 13, '.': 66, 'very': 5, 'much': 1, 'that': 9, 'was': 6, 'whistling': 14, 'i': 56, \"'\": 26, 'm': 7, 'trying': 1, 'to': 15, 'do': 4, 'this': 5, 'in': 13, 'english': 2, 'what': 5, 'is': 8, 'a': 11, 'chu': 1, '##bby': 1, ',': 76, 'curly': 1, 'haired': 1, 'guy': 1, 'from': 1, 'holland': 1, 'why': 3, 'he': 2, '?': 7, 'well': 4, 'actually': 8, 've': 1, '[': 3, 'been': 1, ']': 3, 'since': 1, 'the': 18, 'age': 1, 'of': 9, 'four': 3, 'about': 3, 'my': 15, 'dad': 1, 'always': 3, 'around': 1, 'house': 1, 'and': 29, 'just': 3, 'thought': 3, 's': 9, 'part': 1, 'communication': 1, 'family': 2, 'so': 12, 'whistled': 6, 'along': 3, 'with': 4, 'him': 1, 'till': 1, '34': 1, 'annoyed': 1, 'irritated': 1, 'people': 3, 'because': 1, 'be': 1, 'honest': 1, 'kind': 1, 'devi': 1, '##ant': 1, 'behavior': 1, 'alone': 1, 'classroom': 1, 'on': 2, 'bike': 1, 'everywhere': 1, 'also': 3, 'at': 5, 'christmas': 3, 'eve': 1, 'party': 2, 'law': 2, 'they': 1, 'had': 2, 'some': 2, 'opinion': 1, 'terrible': 1, 'music': 3, 'when': 1, 'hear': 1, 'don': 2, 't': 7, 'like': 3, 'try': 2, 'make': 1, 'it': 14, 'better': 1, 'rudolph': 1, 'red': 1, 'nosed': 1, 'reindeer': 1, 'know': 2, 'but': 6, 'can': 3, 'sound': 1, 'during': 1, 'dinner': 1, 'annoying': 1, 'sister': 1, 'asked': 1, 'me': 3, 'few': 2, 'times': 1, 'please': 1, 'stop': 1, 'couldn': 2, 'one': 4, 'point': 3, 'wine': 1, 'have': 2, 'admit': 1, 'said': 1, 'if': 3, 'there': 4, 'contest': 1, 'would': 3, 'join': 1, 'two': 1, 'weeks': 1, 'later': 1, 'received': 1, 'text': 1, 'message': 1, 're': 2, 'going': 3, 'america': 3, 'okay': 4, 'love': 1, 'immediately': 1, 'called': 2, 'her': 1, 'up': 1, 'course': 3, 'she': 4, 'google': 1, '##d': 1, 'found': 1, 'world': 4, 'championship': 2, 'didn': 1, 'expect': 1, 'go': 4, 'lost': 2, 'face': 2, 'correct': 1, 'dutch': 1, 'here': 4, 'will': 4, 'understand': 1, 'mean': 2, 'never': 2, 'did': 1, 'went': 1, 'louis': 1, '##burg': 1, 'north': 1, 'carolina': 1, 'southeast': 1, 'united': 1, 'states': 1, 'entered': 3, 'won': 3, '2004': 1, 'great': 1, 'fun': 1, 'defend': 1, 'title': 1, 'judo': 1, '##kas': 1, 'sports': 1, '##men': 1, 'let': 1, 'back': 1, '2005': 1, 'again': 3, 'then': 2, 'participate': 1, 'for': 1, 'years': 1, '2008': 1, 'japan': 1, 'tokyo': 1, 'happened': 1, 'now': 2, 'standing': 1, 'rotterdam': 1, 'beautiful': 1, 'city': 1, 'big': 1, 'stage': 1, 'talking': 1, 'earn': 1, 'money': 1, 'moment': 1, 'quit': 1, 'day': 1, 'job': 1, 'as': 2, 'nurse': 1, 'live': 1, 'dream': 2, 'sounds': 1, 'good': 1, 'not': 1, 'only': 1, 'say': 1, 'huh': 1, 'are': 2, 'whistle': 5, 'same': 2, 'thing': 2, 'happens': 2, 'watching': 1, 'each': 1, 'other': 1, 'think': 1, 'oh': 2, 'god': 1, 'away': 1, 'no': 4, 'simple': 1, 'track': 1, 'fa': 1, '##ª': 1, '##te': 1, 'de': 1, 'la': 1, 'belle': 1, '80': 1, 'minutes': 2, 'long': 2, 'want': 1, 'first': 1, '##hear': 1, '##se': 1, 'your': 1, 'tone': 2, 'sorry': 2, 'forgot': 1, 'heard': 1, 'wide': 1, 'variety': 1, 'tones': 1, 'promising': 2, 'll': 1, 'ask': 1, 'technicians': 2, 'start': 2, 'started': 1, 'where': 1, 'we': 1, 'see': 1, 'ha': 1, '##h': 1, 'used': 1, 'myself': 2, 'easy': 1, 'isn': 1, 'comes': 1, 'solo': 1, 'propose': 1, 'max': 1, 'west': 1, '##erman': 1, 'gee': 2, '##rt': 2, 'chat': 2, '##rou': 2, 'champion': 1}\n",
      "Doc has 88 new tokens\n",
      "{'i': 11, \"'\": 47, 'm': 2, 'here': 6, 'to': 20, 'show': 1, 'you': 27, 'how': 4, 'something': 2, 'can': 8, 't': 6, 'see': 6, 'be': 10, 'so': 9, 'much': 1, 'fun': 1, 'look': 2, 'at': 2, '.': 43, 're': 7, 'about': 4, 'experience': 1, 'a': 20, 'new': 1, ',': 62, 'available': 1, 'and': 37, 'exciting': 1, 'technology': 1, 'that': 20, 's': 22, 'going': 9, 'make': 1, 'us': 2, '##thi': 1, '##nk': 1, 'we': 11, 'water': 15, '##proof': 1, 'our': 1, 'lives': 1, 'what': 9, 'have': 5, 'is': 15, 'cinder': 2, 'block': 2, 've': 6, 'coated': 3, 'half': 1, 'with': 8, 'nano': 12, '##tech': 5, '##nology': 5, 'spray': 2, 'applied': 1, 'almost': 1, 'any': 2, 'material': 2, 'it': 37, 'called': 1, 'ultra': 1, 'ever': 1, 'dry': 3, 'when': 3, 'apply': 1, 'turns': 1, 'into': 2, 'super': 5, '##hy': 5, '##drop': 5, '##ho': 5, '##bic': 5, 'shield': 1, 'this': 10, 'un': 1, '##coat': 1, '##ed': 2, 'por': 2, '##ous': 3, 'absorb': 1, '##s': 3, 'not': 3, 'anymore': 1, 'non': 1, '##por': 1, '?': 6, 'measure': 2, 'drop': 1, 'of': 20, 'on': 3, 'surface': 4, 'the': 32, 'round': 2, '##er': 1, 'more': 1, 'hydro': 1, '##phobic': 1, 'if': 5, 'really': 2, 'freshly': 1, 'wax': 1, 'car': 1, 'molecules': 3, 'slump': 1, '90': 1, 'degrees': 3, 'windshield': 1, 'coating': 7, 'give': 2, '110': 1, 'but': 4, 'seeing': 1, '160': 1, '175': 1, 'anything': 3, 'over': 1, '150': 1, 'as': 3, 'part': 2, 'demonstration': 3, 'pair': 1, 'gloves': 2, 'one': 6, 'let': 1, 'tell': 1, 'which': 1, 'll': 1, 'hint': 1, 'did': 1, 'guess': 1, 'was': 2, '##sc': 1, '##ience': 1, 'occurred': 1, 'able': 1, 'now': 2, 'atoms': 1, 'actually': 3, 'control': 1, 'them': 2, 'for': 4, 'great': 1, 'benefits': 1, 'talking': 1, 'small': 3, 'way': 1, 'in': 3, '##meter': 3, 'billion': 1, '##th': 1, 'meter': 1, 'put': 3, 'some': 2, 'scale': 1, 'had': 2, '##par': 3, '##tic': 3, '##le': 1, 'thick': 1, 'side': 2, 'by': 1, '50': 1, '000': 1, 'd': 4, 'width': 1, 'human': 1, 'hair': 1, 'very': 3, 'useful': 1, 'just': 1, 'works': 1, 'lot': 1, 'based': 2, 'materials': 1, 'like': 4, 'concrete': 2, 'paint': 1, 'mud': 2, 'also': 1, 'refined': 1, 'oils': 1, 'well': 3, 'difference': 1, 'moving': 1, 'onto': 1, 'next': 1, 'taken': 1, 'pan': 1, '##e': 1, 'glass': 2, 'outside': 1, 'framed': 1, 'pour': 1, 'green': 1, 'tinted': 1, 'inside': 2, 'middle': 1, 'spread': 1, 'out': 2, 'normally': 1, 'think': 3, 'would': 2, 'except': 1, 'hits': 4, 'stops': 1, 'even': 1, 'coa': 1, '##x': 1, 'leave': 2, 'afraid': 1, 'happening': 2, 'filled': 1, '##les': 2, 'form': 1, 'rough': 1, 'cr': 1, '##ag': 1, '##gly': 1, 'smooth': 1, 'has': 1, 'billions': 1, 'inter': 1, '##sti': 1, '##tial': 1, 'spaces': 2, 'those': 1, 'along': 1, 'reach': 1, 'up': 1, 'grab': 1, 'air': 5, 'cover': 1, 'an': 1, 'umbrella': 1, 'all': 2, 'across': 1, 'layer': 2, 'glide': 1, 'right': 2, 'off': 1, 'silver': 2, 'reflective': 2, 'around': 1, 'protecting': 1, 'from': 2, 'touching': 1, 'paddle': 1, 'are': 2, 'applications': 2, 'mean': 1, 'many': 1, 'probably': 1, 'through': 1, 'your': 2, 'head': 1, 'everyone': 1, 'sees': 1, 'gets': 1, 'excited': 1, 'says': 1, 'oh': 1, 'could': 7, 'use': 1, 'general': 1, 'sense': 1, 'anti': 4, 'wet': 1, '##ting': 1, 'certainly': 1, 'seen': 1, 'today': 1, 'ic': 1, '##ing': 1, 'because': 1, 'don': 2, 'ice': 1, 'corrosion': 2, 'no': 2, 'bacterial': 1, 'without': 1, 'bacteria': 1, 'won': 1, 'survive': 1, 'things': 1, 'need': 1, 'self': 1, 'cleaning': 1, 'imagine': 1, 'help': 1, 'revolution': 1, '##ize': 1, 'field': 1, 'work': 1, 'last': 1, 'before': 1, 'do': 1, 'say': 1, 'thank': 1, 'happen': 1, 'wait': 2, 'chris': 1, 'anderson': 1, 'guys': 1, 'didn': 1, 'hear': 1, 'cutting': 1, 'design': 1, 'ted': 1, '[': 1, 'two': 1, 'minutes': 1, 'later': 1, ']': 1, 'he': 1, 'ran': 1, 'sorts': 1, 'problems': 1, 'terms': 1, 'managing': 1, 'medical': 1, 'research': 1}\n",
      "Doc has 104 new tokens\n",
      "{'i': 74, 'want': 7, 'to': 76, 'talk': 4, 'you': 50, 'today': 2, 'a': 77, 'little': 12, 'bit': 10, 'about': 32, 'predictable': 1, 'irrational': 4, '##ity': 1, '.': 144, 'and': 93, 'my': 12, 'interest': 2, 'in': 50, 'behavior': 1, 'started': 5, 'many': 6, 'years': 2, 'ago': 1, 'the': 140, 'hospital': 3, 'was': 37, 'burned': 2, 'very': 12, 'badly': 1, 'if': 16, 'spend': 1, 'lot': 9, 'of': 78, 'time': 8, ',': 256, \"'\": 54, 'll': 3, 'see': 8, 'types': 1, '##ities': 2, 'one': 11, 'that': 45, 'particularly': 4, 'bothered': 1, 'me': 14, 'burn': 2, 'department': 2, 'process': 2, 'by': 10, 'which': 4, 'nurses': 8, 'took': 3, 'bandage': 1, 'off': 5, 'now': 11, 'must': 2, 'have': 19, 'all': 20, 'taken': 1, 'band': 2, 'aid': 2, 'at': 11, 'some': 7, 'point': 3, 'wondered': 1, 'what': 27, 's': 21, 'right': 8, 'approach': 3, 'do': 18, 'rip': 3, 'it': 56, 'quickly': 1, 'short': 3, 'duration': 3, 'but': 19, 'high': 2, 'intensity': 5, 'or': 12, 'take': 7, 'your': 6, 'slowly': 1, 'long': 6, 'each': 2, 'second': 2, 'is': 27, 'not': 17, 'as': 11, 'painful': 6, 'those': 7, '?': 32, 'thought': 5, 'ripping': 2, 'so': 28, 'they': 38, 'would': 40, 'grab': 2, 'hold': 2, 'because': 8, 'had': 12, '70': 1, 'percent': 1, 'body': 1, 'an': 8, 'hour': 2, 'can': 10, 'imagine': 1, 'hated': 1, 'moment': 3, 'with': 18, 'incredible': 1, 'try': 5, 'reason': 3, 'them': 16, 'say': 4, 'why': 3, 'don': 7, 't': 21, 'we': 69, 'something': 10, 'else': 3, 'longer': 3, 'maybe': 5, 'two': 7, 'hours': 1, 'instead': 2, 'less': 8, 'this': 33, 'told': 5, 'things': 12, 'model': 1, 'patient': 2, 'knew': 2, 'thing': 3, 'minimize': 1, 'pain': 9, 'also': 6, 'word': 1, 'doesn': 4, 'mean': 2, 'make': 3, 'suggestions': 1, 'interfere': 1, 'just': 6, 'hebrew': 1, 'way': 9, 'every': 2, 'language': 1, 've': 4, 'experience': 2, 'far': 1, 'know': 2, 'there': 11, 'much': 13, 'wasn': 5, 'could': 10, 'kept': 2, 'on': 12, 'doing': 6, 'were': 10, 'three': 1, 'later': 1, 'when': 23, 'left': 4, 'studying': 1, 'university': 4, 'most': 2, 'interesting': 5, 'lessons': 1, 'learned': 6, 'experimental': 1, 'method': 1, 'question': 8, 'create': 4, 'replica': 1, 'abstract': 1, 'examine': 1, 'learn': 1, 'world': 2, 'did': 9, 'still': 3, 'interested': 1, 'how': 18, 'bandages': 3, 'patients': 1, 'originally': 1, 'didn': 2, 'money': 12, 'went': 10, 'hardware': 1, 'store': 1, 'bought': 1, 'carpenter': 1, 'vice': 1, 'bring': 2, 'people': 51, 'lab': 2, 'put': 2, 'their': 7, 'finger': 1, 'crunch': 2, 'for': 17, 'periods': 2, 'up': 7, 'down': 3, 'breaks': 3, 'without': 1, 'kinds': 2, 'versions': 1, 'finished': 5, 'hurting': 1, 'ask': 1, 'choose': 2, 'between': 1, 'last': 3, 'while': 1, 'then': 4, 'like': 6, 'good': 7, 'academic': 1, 'projects': 1, 'got': 7, 'more': 19, 'funding': 1, 'moved': 1, 'sounds': 1, 'electrical': 1, 'shocks': 1, 'even': 4, 'suit': 1, 'get': 8, 'feel': 7, 'end': 2, 'wrong': 6, 'here': 5, 'wonderful': 1, 'intentions': 1, 'plenty': 1, 'nevertheless': 1, 'getting': 2, 'predict': 1, '##ably': 1, 'turns': 6, 'out': 9, 'en': 5, '##code': 2, 'been': 8, 'lower': 1, 'better': 5, 'start': 3, 'face': 1, 'move': 1, 'toward': 1, 'legs': 1, 'giving': 1, 'trend': 1, 'improvement': 1, 'over': 6, 'give': 7, 'middle': 1, 'kind': 3, 'rec': 1, '##up': 1, '##erate': 1, 'from': 16, 'these': 11, 'great': 1, 'no': 4, 'idea': 1, 'thinking': 2, 'are': 9, 'only': 1, 'who': 8, 'particular': 1, 'decision': 1, 'general': 2, 'case': 5, 'mistakes': 1, 'example': 2, 'cheating': 22, 'picked': 1, 'tells': 1, 'us': 7, 'think': 12, 'stock': 7, 'market': 4, 'situation': 4, 're': 5, '##ron': 3, 'came': 4, 'scene': 1, 'exploded': 1, 'sudden': 2, 'happening': 3, 'few': 4, 'apples': 2, 'capable': 2, 'talking': 1, 'endemic': 1, 'actually': 4, 'be': 7, '##ha': 2, '##ving': 2, 'usually': 1, 'decided': 1, 'simple': 4, 'experiment': 16, 'pass': 3, 'sheet': 5, 'paper': 7, '20': 1, 'math': 1, 'problems': 4, 'everybody': 3, 'solve': 3, 'wouldn': 1, 'enough': 1, 'five': 3, 'minutes': 2, 'sheets': 1, 'pay': 6, 'dollar': 3, 'per': 3, 'four': 2, 'dollars': 7, 'task': 3, 'average': 2, 'other': 7, 'te': 1, '##mpt': 1, 'cheat': 22, 'please': 1, 'sh': 2, '##red': 2, 'piece': 2, 'pieces': 1, 'pocket': 1, 'backpack': 1, 'tell': 4, 'questions': 2, 'correctly': 1, 'solved': 4, 'seven': 1, 'bad': 4, 'cheated': 5, 'saw': 1, 'economic': 3, 'theory': 2, 'cost': 2, 'benefit': 3, 'analysis': 2, 'probability': 4, 'being': 6, 'caught': 5, 'stand': 1, 'gain': 1, 'punishment': 1, 'weigh': 1, 'options': 2, 'decide': 1, 'whether': 2, 'worth': 1, '##while': 1, 'commit': 1, 'crime': 1, 'test': 4, 'varied': 1, 'away': 2, 'steal': 1, 'paid': 4, '10': 4, 'cents': 3, 'correct': 3, '50': 1, 'expect': 3, 'amount': 1, 'table': 1, 'increases': 1, 'fact': 5, 'stealing': 1, 'shredded': 5, 'half': 3, 'evidence': 1, 'whole': 1, 'everything': 5, 'room': 1, 'themselves': 1, 'bowl': 1, '100': 1, 'goes': 4, 'again': 3, 'ins': 1, '##ens': 1, '##itive': 1, 'incentives': 1, 'said': 13, 'sensitive': 1, 'rational': 1, 'explanations': 1, 'forces': 3, 'going': 4, 'hand': 2, 'look': 1, 'ourselves': 5, 'mirror': 1, 'level': 1, 'go': 3, 'low': 1, 'degree': 1, 'change': 1, 'our': 11, 'impressions': 1, 'call': 3, 'personal': 2, 'fu': 5, '##dge': 5, 'factor': 5, 'initially': 1, 'shrink': 1, 'tasks': 1, 'first': 2, 'asked': 2, 'recall': 6, 'either': 1, 'books': 1, 'read': 1, 'school': 2, 'ten': 7, 'command': 9, '##ments': 9, 'tempted': 1, 'tried': 2, 'sample': 1, 'nobody': 2, 'given': 2, 'opportunity': 2, 'religious': 2, 'remembered': 1, 'couldn': 1, 'remember': 2, 'almost': 1, 'any': 1, 'trying': 1, 'stopped': 1, 'gave': 2, 'self': 1, 'declared': 1, 'atheist': 1, '##s': 16, 'swearing': 1, 'bible': 1, 'chance': 1, 'hard': 2, 'into': 2, 'education': 1, 'system': 1, 'sign': 2, 'honor': 3, 'code': 3, 'understand': 1, 'survey': 1, 'falls': 1, 'under': 2, 'mit': 3, 'whatsoever': 1, 'decreasing': 1, 'increasing': 1, 'walked': 2, 'around': 3, 'distributed': 1, 'six': 2, 'packs': 1, 'coke': 2, 'refrigerator': 4, 'common': 1, '##grad': 1, 'back': 5, 'measure': 1, 'technically': 1, 'lifetime': 1, 'does': 2, 'contrast': 1, 'plate': 1, 'bills': 1, 'plates': 1, 'same': 4, 'bill': 1, 'ever': 1, 'disappeared': 1, 'social': 3, 'science': 1, 'described': 1, 'before': 1, 'third': 3, 'passed': 2, 'mr': 2, '##er': 4, 'x': 4, '##ding': 1, 'token': 3, '12': 1, 'feet': 1, 'side': 1, 'exchanged': 1, 'following': 1, 'intuition': 16, 'taking': 3, 'pencil': 1, 'work': 1, 'home': 3, 'compared': 1, 'petty': 1, 'cash': 2, 'box': 1, 'differently': 1, 'step': 1, 'removed': 2, 'seconds': 2, 'difference': 1, 'subjects': 2, 'doubled': 1, 'minute': 1, 'big': 4, 'problem': 1, 'yet': 1, 'element': 1, 'day': 1, 'open': 1, 'news': 1, 'examples': 1, 'cause': 1, 'another': 4, 'group': 9, 'students': 2, 'prep': 1, '##aid': 1, 'envelope': 1, 'ok': 1, 'happens': 6, 'hired': 1, 'acting': 3, 'student': 7, 'stood': 2, 'after': 1, '30': 1, 'part': 4, 'actor': 2, 'clearly': 1, 'serious': 1, 'happen': 1, 'will': 3, 'depends': 1, 'sweatshirt': 2, 'wearing': 1, 'ran': 1, 'carnegie': 5, 'mellon': 5, 'pittsburgh': 4, 'universities': 1, 'sitting': 1, 'he': 3, 'important': 1, 'made': 1, 'clear': 1, 'norms': 1, 'somebody': 4, 'appropriate': 1, 'behave': 2, 'terrible': 2, 'associate': 1, 'awareness': 1, 'honesty': 1, 'remind': 1, 'morality': 1, 'bigger': 1, 'distance': 1, 'object': 1, 'terms': 1, 'where': 1, 'reality': 1, 'slightly': 1, 'distorted': 1, 'able': 1, 'course': 2, 'remove': 1, 'derivatives': 1, 'mortgage': 1, 'backed': 1, 'securities': 1, 'distant': 1, 'steps': 1, 'environment': 1, 'worked': 1, 'generally': 1, 'behavioral': 1, 'economics': 1, 'life': 4, 'private': 1, 'business': 1, 'policy': 1, 'child': 1, 'behind': 1, 'new': 1, 'markets': 1, 'policies': 1, 'taxation': 1, 'health': 1, 'care': 1, 'difficulty': 1, 'testing': 2, 'lesson': 1, 'found': 1, 'removing': 2, 'favorite': 1, 'nurse': 2, 'et': 1, '##tie': 1, 'her': 4, 'consideration': 1, 'she': 6, 'liked': 1, 'repeatedly': 1, 'period': 1, 'creating': 1, 'torture': 1, 'too': 1, 'difficult': 3, 'than': 1, 'felt': 1, 'believe': 1, 'accept': 1, 'check': 2, 'strong': 1, 'own': 1, 'ability': 1, 'economy': 1, 'works': 1, 'should': 1, 'teachers': 1, 'unless': 1, 'willing': 1, 'systematic': 1, 'experimentation': 1, 'thank': 1}\n",
      "Doc has 222 new tokens\n"
     ]
    }
   ],
   "source": [
    "for doc in docs:\n",
    "\n",
    "    # Create doc vocab and add to corpus\n",
    "    tokens_from_doc, doc_vocab = preprocess_doc(doc)\n",
    "    print(doc_vocab)\n",
    "    add_doc_vocab_to_corpus(doc_vocab, corpus_vocab=corpus_vocab)\n",
    "\n",
    "    # Create doc token embeddings and add to corpus\n",
    "    doc_token_embeddings = create_doc_token_embeddings(doc)\n",
    "    add_token_embeddings_to_corpus(doc_token_embeddings, corpus_token_embeddings)\n",
    "\n",
    "    # Create adjacency matrix\n",
    "    add_new_tokens_to_corpus_adj_list(doc_vocab, corpus_adj_list=corpus_adj_list, printout=True)\n",
    "\n",
    "    doc_windows = get_doc_windows(tokens_from_doc, window_size=20, padding=5)\n",
    "\n",
    "    for window in doc_windows:\n",
    "        token_adj_from_window(window)\n",
    "    \n",
    "    for window in doc_windows: corpus_windows.append(window) \n",
    "    \n",
    "    # print('Corpus windows count = %d' % len(corpus_windows))\n",
    "    # print('Doc windows count = %d' % len(doc_windows))\n",
    "\n",
    "corpus_vocab = dict(sorted(corpus_vocab.items()))\n",
    "corpus_token_embeddings = get_mean_token_embeddings(corpus_token_embeddings)\n"
   ]
  },
  {
   "cell_type": "code",
   "execution_count": 362,
   "metadata": {},
   "outputs": [
    {
     "data": {
      "text/plain": [
       "torch.Size([768])"
      ]
     },
     "execution_count": 362,
     "metadata": {},
     "output_type": "execute_result"
    }
   ],
   "source": [
    "corpus_token_embeddings[','].size()"
   ]
  },
  {
   "cell_type": "code",
   "execution_count": 314,
   "metadata": {},
   "outputs": [],
   "source": [
    "corpus_adj_list = {}\n",
    "\n",
    "for window in corpus_windows:\n",
    "    get_token_adjancency_from_window(corpus_adj_list, window)"
   ]
  },
  {
   "cell_type": "code",
   "execution_count": 328,
   "metadata": {},
   "outputs": [
    {
     "data": {
      "text/plain": [
       "2984"
      ]
     },
     "execution_count": 328,
     "metadata": {},
     "output_type": "execute_result"
    }
   ],
   "source": [
    "len(corpus_adj_list.keys())"
   ]
  },
  {
   "cell_type": "code",
   "execution_count": 327,
   "metadata": {},
   "outputs": [
    {
     "data": {
      "text/plain": [
       "2984"
      ]
     },
     "execution_count": 327,
     "metadata": {},
     "output_type": "execute_result"
    }
   ],
   "source": [
    "len(corpus_vocab.keys())"
   ]
  },
  {
   "cell_type": "code",
   "execution_count": 145,
   "metadata": {},
   "outputs": [],
   "source": [
    "corpus_vocab_index = {token: idx for idx, token in enumerate(corpus_vocab.keys())}"
   ]
  },
  {
   "cell_type": "code",
   "execution_count": 329,
   "metadata": {},
   "outputs": [],
   "source": [
    "def token2idx(token):\n",
    "    return(corpus_vocab_index[token])\n",
    "    \n",
    "def idx2token(idx):\n",
    "    return([key for key in corpus_vocab_index.keys() if corpus_vocab_index[key] == idx].pop())"
   ]
  },
  {
   "cell_type": "code",
   "execution_count": 331,
   "metadata": {},
   "outputs": [
    {
     "data": {
      "text/plain": [
       "tensor([[ 0.2291,  0.2721, -0.0126,  ...,  0.0952,  0.2752,  0.2363],\n",
       "        [-0.0341, -0.0138,  0.0637,  ..., -0.0755,  0.0757,  0.0567],\n",
       "        [ 0.2248,  0.2510,  0.5798,  ...,  0.3062,  0.2787,  0.2863],\n",
       "        ...,\n",
       "        [-0.5499, -0.6126, -0.6591,  ..., -0.4822, -0.7565, -0.5348],\n",
       "        [ 0.3075,  0.3771,  0.2886,  ...,  0.3298,  0.1368,  0.2476],\n",
       "        [ 0.3932,  0.5512,  0.6295,  ...,  0.5005,  0.5362,  0.5525]])"
      ]
     },
     "execution_count": 331,
     "metadata": {},
     "output_type": "execute_result"
    }
   ],
   "source": [
    "corpus_token_embeddings[',']"
   ]
  },
  {
   "cell_type": "code",
   "execution_count": 332,
   "metadata": {},
   "outputs": [],
   "source": [
    "from torch_geometric.data import Data"
   ]
  },
  {
   "cell_type": "code",
   "execution_count": 353,
   "metadata": {},
   "outputs": [
    {
     "data": {
      "text/plain": [
       "3"
      ]
     },
     "execution_count": 353,
     "metadata": {},
     "output_type": "execute_result"
    }
   ],
   "source": [
    "data.num_node_features"
   ]
  },
  {
   "cell_type": "code",
   "execution_count": 358,
   "metadata": {},
   "outputs": [
    {
     "data": {
      "text/plain": [
       "'.'"
      ]
     },
     "execution_count": 358,
     "metadata": {},
     "output_type": "execute_result"
    }
   ],
   "source": []
  }
 ],
 "metadata": {
  "kernelspec": {
   "display_name": "Python 3.8.13 ('thesis')",
   "language": "python",
   "name": "python3"
  },
  "language_info": {
   "codemirror_mode": {
    "name": "ipython",
    "version": 3
   },
   "file_extension": ".py",
   "mimetype": "text/x-python",
   "name": "python",
   "nbconvert_exporter": "python",
   "pygments_lexer": "ipython3",
   "version": "3.8.13"
  },
  "orig_nbformat": 4,
  "vscode": {
   "interpreter": {
    "hash": "0f23bbf4ff482c7ba4eb349bb77b97513a7d810cc54a91b10dca8f00361b6308"
   }
  }
 },
 "nbformat": 4,
 "nbformat_minor": 2
}
